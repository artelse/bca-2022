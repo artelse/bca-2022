{
 "cells": [
  {
   "cell_type": "code",
   "execution_count": null,
   "id": "eb91644c-fa5a-4cf1-9fb7-825b8eb61c32",
   "metadata": {},
   "outputs": [],
   "source": [
    "!pip install wikipedia"
   ]
  },
  {
   "cell_type": "code",
   "execution_count": null,
   "id": "4d841271-f16c-4d9f-a927-6718763b3f24",
   "metadata": {},
   "outputs": [],
   "source": [
    "import wikipedia\n",
    "\n",
    "'''\n",
    "Install wikipedia first\n",
    "pip install wikipedia\n",
    "\n",
    "Check wikipedia API doc: \n",
    "https://wikipedia.readthedocs.io/en/latest/code.html#api\n",
    "'''\n",
    "\n",
    "\n",
    "# Search for something\n",
    "print(wikipedia.search(\"wtf\"))\n",
    "\n",
    "# Get a summary of page \n",
    "print(wikipedia.summary(\"random\"))\n",
    "\n",
    "# Get a number of random topics\n",
    "print(wikipedia.random(pages=2))\n",
    "\n",
    "# Get a list of image urls of a page\n",
    "# print(wikipedia.page(\"random\").images)\n",
    "\n",
    "# Or just the first image\n",
    "# print(wikipedia.page(\"random\").images[0])\n",
    "\n",
    "# Perhaps use the download_image() function of above script to get the image?"
   ]
  },
  {
   "cell_type": "markdown",
   "id": "585ec67f-ead2-4751-adda-3b34ff54b37d",
   "metadata": {},
   "source": [
    "https://en.wikipedia.org/wiki/Wikipedia:Getting_to_Philosophy"
   ]
  },
  {
   "cell_type": "markdown",
   "id": "f0cef3a6-112b-45c1-a7da-3b26e4626c49",
   "metadata": {},
   "source": [
    "### Reddit API wrapper (PRAW)"
   ]
  },
  {
   "cell_type": "code",
   "execution_count": null,
   "id": "3783a8eb-398e-4124-84c3-8833f3a7bc5f",
   "metadata": {},
   "outputs": [],
   "source": [
    "!pip install praw"
   ]
  },
  {
   "cell_type": "code",
   "execution_count": null,
   "id": "3956b5a7-1ea6-4664-84f6-acfb2a9f9068",
   "metadata": {},
   "outputs": [],
   "source": [
    "import praw"
   ]
  },
  {
   "cell_type": "markdown",
   "id": "aa1b60ab-5f93-4bf9-aee5-ff9bc8f4fabb",
   "metadata": {},
   "source": [
    "### Youtube downloader (YT-DLP)"
   ]
  },
  {
   "cell_type": "code",
   "execution_count": null,
   "id": "0d3c99e7-b0c4-41ea-b3ab-7bbc9ae1c424",
   "metadata": {},
   "outputs": [],
   "source": [
    "!pip install yt-dlp"
   ]
  },
  {
   "cell_type": "code",
   "execution_count": null,
   "id": "96cbe970-ded3-4352-a0bb-370386ae2000",
   "metadata": {},
   "outputs": [],
   "source": [
    "!mkdir yt_vids"
   ]
  },
  {
   "cell_type": "code",
   "execution_count": null,
   "id": "42b78d7a-8d8a-48f5-b911-ddec64b311ab",
   "metadata": {},
   "outputs": [],
   "source": [
    "import yt_dlp\n",
    "\n",
    "downloads = 'yt_vids'\n",
    "\n",
    "ydl_opts = {\n",
    "    'outtmpl': downloads + '/%(id)s.%(ext)s',\n",
    "    'quiet': False,\n",
    "    'format_sort': ['res:1080', 'ext:mp4:m4a'],\n",
    "    'ignoreerrors': False\n",
    "}\n",
    "\n",
    "URL = 'https://www.youtube.com/watch?v=OYN8mZ5nCQY'\n",
    "\n",
    "with yt_dlp.YoutubeDL(ydl_opts) as ydl:\n",
    "    \n",
    "    info = ydl.extract_info(URL, download=False)\n",
    "    \n",
    "    if info:\n",
    "        width = info.get('width')\n",
    "        height = info.get('height')\n",
    "        duration = info.get('duration')\n",
    "        title = info.get('title')\n",
    "        id = info.get('id')\n",
    "        \n",
    "    \n",
    "    print(\"width: {}, height: {}, duration: {}, title: {}, id: {}\".format(width, height, duration, title, id))\n",
    "    ydl.download(URL)\n",
    "    "
   ]
  },
  {
   "cell_type": "code",
   "execution_count": null,
   "id": "a47deabf-4090-42eb-bf6e-706e9fdbd9a2",
   "metadata": {},
   "outputs": [],
   "source": [
    "print(id)"
   ]
  },
  {
   "cell_type": "code",
   "execution_count": null,
   "id": "09a6fc68-a648-4e2a-816f-a7dc679e3c95",
   "metadata": {},
   "outputs": [],
   "source": [
    "from IPython.display import Video\n",
    "\n",
    "Video(\"yt_vids/OYN8mZ5nCQY.mp4\")  "
   ]
  },
  {
   "cell_type": "code",
   "execution_count": null,
   "id": "c3983d06-2cb2-4ba4-8690-4275ea883a31",
   "metadata": {},
   "outputs": [],
   "source": []
  }
 ],
 "metadata": {
  "kernelspec": {
   "display_name": "Python 3 (ipykernel)",
   "language": "python",
   "name": "python3"
  },
  "language_info": {
   "codemirror_mode": {
    "name": "ipython",
    "version": 3
   },
   "file_extension": ".py",
   "mimetype": "text/x-python",
   "name": "python",
   "nbconvert_exporter": "python",
   "pygments_lexer": "ipython3",
   "version": "3.9.13"
  }
 },
 "nbformat": 4,
 "nbformat_minor": 5
}
