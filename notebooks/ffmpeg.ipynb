{
 "cells": [
  {
   "cell_type": "code",
   "execution_count": 1,
   "id": "44dbfed9-598e-4ddf-bd4a-2cb45fa8928a",
   "metadata": {},
   "outputs": [
    {
     "name": "stdout",
     "output_type": "stream",
     "text": [
      "Requirement already satisfied: ffmpeg in /home/carl69/anaconda3/envs/jupyter/lib/python3.9/site-packages (1.4)\n"
     ]
    }
   ],
   "source": [
    "!pip install ffmpeg "
   ]
  },
  {
   "cell_type": "code",
   "execution_count": 15,
   "id": "9a8b4106-de5c-4e9d-be11-bf315012b72c",
   "metadata": {},
   "outputs": [
    {
     "name": "stdout",
     "output_type": "stream",
     "text": [
      "Collecting ffmpeg-python\n",
      "  Using cached ffmpeg_python-0.2.0-py3-none-any.whl (25 kB)\n",
      "Collecting future\n",
      "  Using cached future-0.18.2-py3-none-any.whl\n",
      "Installing collected packages: future, ffmpeg-python\n",
      "  Attempting uninstall: future\n",
      "    Found existing installation: future 0.18.2\n",
      "    Uninstalling future-0.18.2:\n",
      "      Successfully uninstalled future-0.18.2\n",
      "  Attempting uninstall: ffmpeg-python\n",
      "    Found existing installation: ffmpeg-python 0.2.0\n",
      "    Uninstalling ffmpeg-python-0.2.0:\n",
      "      Successfully uninstalled ffmpeg-python-0.2.0\n",
      "Successfully installed ffmpeg-python-0.2.0 future-0.18.2\n"
     ]
    }
   ],
   "source": [
    "!pip install ffmpeg-python"
   ]
  },
  {
   "cell_type": "code",
   "execution_count": 1,
   "id": "9725a787-5014-47ae-99e2-f7c47265be9f",
   "metadata": {},
   "outputs": [],
   "source": [
    "import ffmpeg"
   ]
  },
  {
   "cell_type": "code",
   "execution_count": 2,
   "id": "36f5309d-a8ae-464c-a0e6-25e67976acc3",
   "metadata": {},
   "outputs": [],
   "source": [
    "video_path = \"yt_vids/OYN8mZ5nCQY.mp4\""
   ]
  },
  {
   "cell_type": "code",
   "execution_count": 3,
   "id": "23fda258-67cd-4564-a86b-3e3034bdc6d0",
   "metadata": {},
   "outputs": [
    {
     "name": "stdout",
     "output_type": "stream",
     "text": [
      "width: 1280, height: 720, codec: h264, duration: 105.36, frame rate: 25/1\n"
     ]
    }
   ],
   "source": [
    "probe = ffmpeg.probe(video_path)\n",
    "\n",
    "vid_probe = next((stream for stream in probe['streams'] if stream['codec_type'] == 'video'), None)\n",
    "\n",
    "if vid_probe is None:\n",
    "\n",
    "    print('[ERROR]: No video stream found', file=sys.stderr)\n",
    "    \n",
    "else:\n",
    "    \n",
    "    width = int(vid_probe['width'])\n",
    "    height = int(vid_probe['height'])\n",
    "    codec = str(vid_probe['codec_name'])\n",
    "    duration = float(vid_probe['duration'])\n",
    "    frame_rate = str(vid_probe['r_frame_rate'])\n",
    "    \n",
    "print(\"width: {}, height: {}, codec: {}, duration: {}, frame rate: {}\".format(width, height, codec, duration, frame_rate))\n",
    "    "
   ]
  },
  {
   "cell_type": "code",
   "execution_count": 5,
   "id": "e0736ebe-3205-42a1-a4fa-47129e77c5ac",
   "metadata": {},
   "outputs": [
    {
     "data": {
      "text/plain": [
       "(None, None)"
      ]
     },
     "execution_count": 5,
     "metadata": {},
     "output_type": "execute_result"
    }
   ],
   "source": [
    "stream = (\n",
    "    ffmpeg\n",
    "    .input(\n",
    "        video_path,\n",
    "        ss = 2.0, # where to seek the video, in seconds\n",
    "        t = 3.0 # duration of clip, in seconds\n",
    "    )\n",
    ")\n",
    "\n",
    "out_path = 'yt_vids/test_clip.mp4'\n",
    "\n",
    "ffmpeg.output(stream, stream.audio, out_path, format='mp4', vcodec='h264', acodec='aac', r=frame_rate).global_args('-loglevel', 'quiet').overwrite_output().run()"
   ]
  },
  {
   "cell_type": "code",
   "execution_count": 11,
   "id": "a89614f8-1de7-4c18-b4b5-63a5f96c68bf",
   "metadata": {},
   "outputs": [
    {
     "data": {
      "text/html": [
       "<video src=\"yt_vids/test_clip.mp4\" controls  >\n",
       "      Your browser does not support the <code>video</code> element.\n",
       "    </video>"
      ],
      "text/plain": [
       "<IPython.core.display.Video object>"
      ]
     },
     "execution_count": 11,
     "metadata": {},
     "output_type": "execute_result"
    }
   ],
   "source": [
    "from IPython.display import Video\n",
    "\n",
    "Video(out_path)"
   ]
  },
  {
   "cell_type": "code",
   "execution_count": 18,
   "id": "eb395cb3-69ca-4ce6-9ef0-72431d19e35a",
   "metadata": {},
   "outputs": [],
   "source": [
    "import random\n",
    "import os\n",
    "\n",
    "clip_dir = \"random_clips\"\n",
    "\n",
    "if not os.path.exists(clip_dir):\n",
    "    \n",
    "    os.mkdir(clip_dir)\n",
    "        \n",
    "def get_random_clip(video):\n",
    "    \n",
    "    clip_duration = 1.0\n",
    "\n",
    "    max_time = duration - clip_duration\n",
    "    \n",
    "    rnd_start = random.uniform(0.0, max_time)\n",
    "    \n",
    "    stream = (\n",
    "        ffmpeg\n",
    "        .input(\n",
    "            video,        \n",
    "            ss = rnd_start, # where to seek the video, in seconds\n",
    "            t = max_time # duration of clip, in seconds\n",
    "        )\n",
    "    )\n",
    "    \n",
    "    return stream\n",
    "    \n",
    "clip_amount = 5\n",
    "\n",
    "for i in range(clip_amount):\n",
    "    \n",
    "    stream = get_random_clip(video_path)\n",
    "    \n",
    "    out_path = os.path.join(clip_dir, \"clip_{}.mp4\".format(i+1))\n",
    "\n",
    "    ffmpeg.output(stream, stream.audio, out_path, format='mp4', vcodec='h264', acodec='aac', r=frame_rate).global_args('-loglevel', 'quiet').overwrite_output().run()\n",
    "    \n",
    "    # clips.append(rnd_clip)"
   ]
  },
  {
   "cell_type": "code",
   "execution_count": 23,
   "id": "69234a2d-3dd3-45f4-b5d6-e9081867634a",
   "metadata": {},
   "outputs": [
    {
     "ename": "ValueError",
     "evalue": "Encountered concat(n=5) <d70838d97fd8> with multiple outgoing edges with same upstream label None; a `split` filter is probably required",
     "output_type": "error",
     "traceback": [
      "\u001b[0;31m---------------------------------------------------------------------------\u001b[0m",
      "\u001b[0;31mValueError\u001b[0m                                Traceback (most recent call last)",
      "Cell \u001b[0;32mIn [23], line 34\u001b[0m\n\u001b[1;32m     30\u001b[0m     os\u001b[38;5;241m.\u001b[39mmkdir(out_dir)\n\u001b[1;32m     32\u001b[0m out_path \u001b[38;5;241m=\u001b[39m os\u001b[38;5;241m.\u001b[39mpath\u001b[38;5;241m.\u001b[39mjoin(out_dir, \u001b[38;5;124m\"\u001b[39m\u001b[38;5;124mrandom_comp.mp4\u001b[39m\u001b[38;5;124m\"\u001b[39m)\n\u001b[0;32m---> 34\u001b[0m \u001b[43mffmpeg\u001b[49m\u001b[38;5;241;43m.\u001b[39;49m\u001b[43moutput\u001b[49m\u001b[43m(\u001b[49m\u001b[43mall_clips\u001b[49m\u001b[43m,\u001b[49m\u001b[43m \u001b[49m\u001b[43mall_clips\u001b[49m\u001b[38;5;241;43m.\u001b[39;49m\u001b[43maudio\u001b[49m\u001b[43m,\u001b[49m\u001b[43m \u001b[49m\u001b[43mout_path\u001b[49m\u001b[43m,\u001b[49m\u001b[43m \u001b[49m\u001b[38;5;28;43mformat\u001b[39;49m\u001b[38;5;241;43m=\u001b[39;49m\u001b[38;5;124;43m'\u001b[39;49m\u001b[38;5;124;43mmp4\u001b[39;49m\u001b[38;5;124;43m'\u001b[39;49m\u001b[43m,\u001b[49m\u001b[43m \u001b[49m\u001b[43mvcodec\u001b[49m\u001b[38;5;241;43m=\u001b[39;49m\u001b[38;5;124;43m'\u001b[39;49m\u001b[38;5;124;43mh264\u001b[39;49m\u001b[38;5;124;43m'\u001b[39;49m\u001b[43m,\u001b[49m\u001b[43m \u001b[49m\u001b[43macodec\u001b[49m\u001b[38;5;241;43m=\u001b[39;49m\u001b[38;5;124;43m'\u001b[39;49m\u001b[38;5;124;43maac\u001b[39;49m\u001b[38;5;124;43m'\u001b[39;49m\u001b[43m,\u001b[49m\u001b[43m \u001b[49m\u001b[43mr\u001b[49m\u001b[38;5;241;43m=\u001b[39;49m\u001b[43mframe_rate\u001b[49m\u001b[43m)\u001b[49m\u001b[38;5;241;43m.\u001b[39;49m\u001b[43mglobal_args\u001b[49m\u001b[43m(\u001b[49m\u001b[38;5;124;43m'\u001b[39;49m\u001b[38;5;124;43m-loglevel\u001b[39;49m\u001b[38;5;124;43m'\u001b[39;49m\u001b[43m,\u001b[49m\u001b[43m \u001b[49m\u001b[38;5;124;43m'\u001b[39;49m\u001b[38;5;124;43mquiet\u001b[39;49m\u001b[38;5;124;43m'\u001b[39;49m\u001b[43m)\u001b[49m\u001b[38;5;241;43m.\u001b[39;49m\u001b[43moverwrite_output\u001b[49m\u001b[43m(\u001b[49m\u001b[43m)\u001b[49m\u001b[38;5;241;43m.\u001b[39;49m\u001b[43mrun\u001b[49m\u001b[43m(\u001b[49m\u001b[43m)\u001b[49m\n",
      "File \u001b[0;32m~/anaconda3/envs/jupyter/lib/python3.9/site-packages/ffmpeg/_run.py:313\u001b[0m, in \u001b[0;36mrun\u001b[0;34m(stream_spec, cmd, capture_stdout, capture_stderr, input, quiet, overwrite_output)\u001b[0m\n\u001b[1;32m    289\u001b[0m \u001b[38;5;129m@output_operator\u001b[39m()\n\u001b[1;32m    290\u001b[0m \u001b[38;5;28;01mdef\u001b[39;00m \u001b[38;5;21mrun\u001b[39m(\n\u001b[1;32m    291\u001b[0m     stream_spec,\n\u001b[0;32m   (...)\u001b[0m\n\u001b[1;32m    297\u001b[0m     overwrite_output\u001b[38;5;241m=\u001b[39m\u001b[38;5;28;01mFalse\u001b[39;00m,\n\u001b[1;32m    298\u001b[0m ):\n\u001b[1;32m    299\u001b[0m     \u001b[38;5;124;03m\"\"\"Invoke ffmpeg for the supplied node graph.\u001b[39;00m\n\u001b[1;32m    300\u001b[0m \n\u001b[1;32m    301\u001b[0m \u001b[38;5;124;03m    Args:\u001b[39;00m\n\u001b[0;32m   (...)\u001b[0m\n\u001b[1;32m    311\u001b[0m \u001b[38;5;124;03m    Returns: (out, err) tuple containing captured stdout and stderr data.\u001b[39;00m\n\u001b[1;32m    312\u001b[0m \u001b[38;5;124;03m    \"\"\"\u001b[39;00m\n\u001b[0;32m--> 313\u001b[0m     process \u001b[38;5;241m=\u001b[39m \u001b[43mrun_async\u001b[49m\u001b[43m(\u001b[49m\n\u001b[1;32m    314\u001b[0m \u001b[43m        \u001b[49m\u001b[43mstream_spec\u001b[49m\u001b[43m,\u001b[49m\n\u001b[1;32m    315\u001b[0m \u001b[43m        \u001b[49m\u001b[43mcmd\u001b[49m\u001b[43m,\u001b[49m\n\u001b[1;32m    316\u001b[0m \u001b[43m        \u001b[49m\u001b[43mpipe_stdin\u001b[49m\u001b[38;5;241;43m=\u001b[39;49m\u001b[38;5;28;43minput\u001b[39;49m\u001b[43m \u001b[49m\u001b[38;5;129;43;01mis\u001b[39;49;00m\u001b[43m \u001b[49m\u001b[38;5;129;43;01mnot\u001b[39;49;00m\u001b[43m \u001b[49m\u001b[38;5;28;43;01mNone\u001b[39;49;00m\u001b[43m,\u001b[49m\n\u001b[1;32m    317\u001b[0m \u001b[43m        \u001b[49m\u001b[43mpipe_stdout\u001b[49m\u001b[38;5;241;43m=\u001b[39;49m\u001b[43mcapture_stdout\u001b[49m\u001b[43m,\u001b[49m\n\u001b[1;32m    318\u001b[0m \u001b[43m        \u001b[49m\u001b[43mpipe_stderr\u001b[49m\u001b[38;5;241;43m=\u001b[39;49m\u001b[43mcapture_stderr\u001b[49m\u001b[43m,\u001b[49m\n\u001b[1;32m    319\u001b[0m \u001b[43m        \u001b[49m\u001b[43mquiet\u001b[49m\u001b[38;5;241;43m=\u001b[39;49m\u001b[43mquiet\u001b[49m\u001b[43m,\u001b[49m\n\u001b[1;32m    320\u001b[0m \u001b[43m        \u001b[49m\u001b[43moverwrite_output\u001b[49m\u001b[38;5;241;43m=\u001b[39;49m\u001b[43moverwrite_output\u001b[49m\u001b[43m,\u001b[49m\n\u001b[1;32m    321\u001b[0m \u001b[43m    \u001b[49m\u001b[43m)\u001b[49m\n\u001b[1;32m    322\u001b[0m     out, err \u001b[38;5;241m=\u001b[39m process\u001b[38;5;241m.\u001b[39mcommunicate(\u001b[38;5;28minput\u001b[39m)\n\u001b[1;32m    323\u001b[0m     retcode \u001b[38;5;241m=\u001b[39m process\u001b[38;5;241m.\u001b[39mpoll()\n",
      "File \u001b[0;32m~/anaconda3/envs/jupyter/lib/python3.9/site-packages/ffmpeg/_run.py:280\u001b[0m, in \u001b[0;36mrun_async\u001b[0;34m(stream_spec, cmd, pipe_stdin, pipe_stdout, pipe_stderr, quiet, overwrite_output)\u001b[0m\n\u001b[1;32m    193\u001b[0m \u001b[38;5;129m@output_operator\u001b[39m()\n\u001b[1;32m    194\u001b[0m \u001b[38;5;28;01mdef\u001b[39;00m \u001b[38;5;21mrun_async\u001b[39m(\n\u001b[1;32m    195\u001b[0m     stream_spec,\n\u001b[0;32m   (...)\u001b[0m\n\u001b[1;32m    201\u001b[0m     overwrite_output\u001b[38;5;241m=\u001b[39m\u001b[38;5;28;01mFalse\u001b[39;00m,\n\u001b[1;32m    202\u001b[0m ):\n\u001b[1;32m    203\u001b[0m     \u001b[38;5;124;03m\"\"\"Asynchronously invoke ffmpeg for the supplied node graph.\u001b[39;00m\n\u001b[1;32m    204\u001b[0m \n\u001b[1;32m    205\u001b[0m \u001b[38;5;124;03m    Args:\u001b[39;00m\n\u001b[0;32m   (...)\u001b[0m\n\u001b[1;32m    278\u001b[0m \u001b[38;5;124;03m    .. _subprocess Popen: https://docs.python.org/3/library/subprocess.html#popen-objects\u001b[39;00m\n\u001b[1;32m    279\u001b[0m \u001b[38;5;124;03m    \"\"\"\u001b[39;00m\n\u001b[0;32m--> 280\u001b[0m     args \u001b[38;5;241m=\u001b[39m \u001b[38;5;28;43mcompile\u001b[39;49m\u001b[43m(\u001b[49m\u001b[43mstream_spec\u001b[49m\u001b[43m,\u001b[49m\u001b[43m \u001b[49m\u001b[43mcmd\u001b[49m\u001b[43m,\u001b[49m\u001b[43m \u001b[49m\u001b[43moverwrite_output\u001b[49m\u001b[38;5;241;43m=\u001b[39;49m\u001b[43moverwrite_output\u001b[49m\u001b[43m)\u001b[49m\n\u001b[1;32m    281\u001b[0m     stdin_stream \u001b[38;5;241m=\u001b[39m subprocess\u001b[38;5;241m.\u001b[39mPIPE \u001b[38;5;28;01mif\u001b[39;00m pipe_stdin \u001b[38;5;28;01melse\u001b[39;00m \u001b[38;5;28;01mNone\u001b[39;00m\n\u001b[1;32m    282\u001b[0m     stdout_stream \u001b[38;5;241m=\u001b[39m subprocess\u001b[38;5;241m.\u001b[39mPIPE \u001b[38;5;28;01mif\u001b[39;00m pipe_stdout \u001b[38;5;129;01mor\u001b[39;00m quiet \u001b[38;5;28;01melse\u001b[39;00m \u001b[38;5;28;01mNone\u001b[39;00m\n",
      "File \u001b[0;32m~/anaconda3/envs/jupyter/lib/python3.9/site-packages/ffmpeg/_run.py:190\u001b[0m, in \u001b[0;36mcompile\u001b[0;34m(stream_spec, cmd, overwrite_output)\u001b[0m\n\u001b[1;32m    188\u001b[0m \u001b[38;5;28;01melif\u001b[39;00m \u001b[38;5;28mtype\u001b[39m(cmd) \u001b[38;5;241m!=\u001b[39m \u001b[38;5;28mlist\u001b[39m:\n\u001b[1;32m    189\u001b[0m     cmd \u001b[38;5;241m=\u001b[39m \u001b[38;5;28mlist\u001b[39m(cmd)\n\u001b[0;32m--> 190\u001b[0m \u001b[38;5;28;01mreturn\u001b[39;00m cmd \u001b[38;5;241m+\u001b[39m \u001b[43mget_args\u001b[49m\u001b[43m(\u001b[49m\u001b[43mstream_spec\u001b[49m\u001b[43m,\u001b[49m\u001b[43m \u001b[49m\u001b[43moverwrite_output\u001b[49m\u001b[38;5;241;43m=\u001b[39;49m\u001b[43moverwrite_output\u001b[49m\u001b[43m)\u001b[49m\n",
      "File \u001b[0;32m~/anaconda3/envs/jupyter/lib/python3.9/site-packages/ffmpeg/_run.py:161\u001b[0m, in \u001b[0;36mget_args\u001b[0;34m(stream_spec, overwrite_output)\u001b[0m\n\u001b[1;32m    159\u001b[0m filter_nodes \u001b[38;5;241m=\u001b[39m [node \u001b[38;5;28;01mfor\u001b[39;00m node \u001b[38;5;129;01min\u001b[39;00m sorted_nodes \u001b[38;5;28;01mif\u001b[39;00m \u001b[38;5;28misinstance\u001b[39m(node, FilterNode)]\n\u001b[1;32m    160\u001b[0m stream_name_map \u001b[38;5;241m=\u001b[39m {(node, \u001b[38;5;28;01mNone\u001b[39;00m): \u001b[38;5;28mstr\u001b[39m(i) \u001b[38;5;28;01mfor\u001b[39;00m i, node \u001b[38;5;129;01min\u001b[39;00m \u001b[38;5;28menumerate\u001b[39m(input_nodes)}\n\u001b[0;32m--> 161\u001b[0m filter_arg \u001b[38;5;241m=\u001b[39m \u001b[43m_get_filter_arg\u001b[49m\u001b[43m(\u001b[49m\u001b[43mfilter_nodes\u001b[49m\u001b[43m,\u001b[49m\u001b[43m \u001b[49m\u001b[43moutgoing_edge_maps\u001b[49m\u001b[43m,\u001b[49m\u001b[43m \u001b[49m\u001b[43mstream_name_map\u001b[49m\u001b[43m)\u001b[49m\n\u001b[1;32m    162\u001b[0m args \u001b[38;5;241m+\u001b[39m\u001b[38;5;241m=\u001b[39m reduce(operator\u001b[38;5;241m.\u001b[39madd, [_get_input_args(node) \u001b[38;5;28;01mfor\u001b[39;00m node \u001b[38;5;129;01min\u001b[39;00m input_nodes])\n\u001b[1;32m    163\u001b[0m \u001b[38;5;28;01mif\u001b[39;00m filter_arg:\n",
      "File \u001b[0;32m~/anaconda3/envs/jupyter/lib/python3.9/site-packages/ffmpeg/_run.py:101\u001b[0m, in \u001b[0;36m_get_filter_arg\u001b[0;34m(filter_nodes, outgoing_edge_maps, stream_name_map)\u001b[0m\n\u001b[1;32m    100\u001b[0m \u001b[38;5;28;01mdef\u001b[39;00m \u001b[38;5;21m_get_filter_arg\u001b[39m(filter_nodes, outgoing_edge_maps, stream_name_map):\n\u001b[0;32m--> 101\u001b[0m     \u001b[43m_allocate_filter_stream_names\u001b[49m\u001b[43m(\u001b[49m\u001b[43mfilter_nodes\u001b[49m\u001b[43m,\u001b[49m\u001b[43m \u001b[49m\u001b[43moutgoing_edge_maps\u001b[49m\u001b[43m,\u001b[49m\u001b[43m \u001b[49m\u001b[43mstream_name_map\u001b[49m\u001b[43m)\u001b[49m\n\u001b[1;32m    102\u001b[0m     filter_specs \u001b[38;5;241m=\u001b[39m [\n\u001b[1;32m    103\u001b[0m         _get_filter_spec(node, outgoing_edge_maps[node], stream_name_map)\n\u001b[1;32m    104\u001b[0m         \u001b[38;5;28;01mfor\u001b[39;00m node \u001b[38;5;129;01min\u001b[39;00m filter_nodes\n\u001b[1;32m    105\u001b[0m     ]\n\u001b[1;32m    106\u001b[0m     \u001b[38;5;28;01mreturn\u001b[39;00m \u001b[38;5;124m'\u001b[39m\u001b[38;5;124m;\u001b[39m\u001b[38;5;124m'\u001b[39m\u001b[38;5;241m.\u001b[39mjoin(filter_specs)\n",
      "File \u001b[0;32m~/anaconda3/envs/jupyter/lib/python3.9/site-packages/ffmpeg/_run.py:90\u001b[0m, in \u001b[0;36m_allocate_filter_stream_names\u001b[0;34m(filter_nodes, outgoing_edge_maps, stream_name_map)\u001b[0m\n\u001b[1;32m     87\u001b[0m \u001b[38;5;28;01mfor\u001b[39;00m upstream_label, downstreams \u001b[38;5;129;01min\u001b[39;00m \u001b[38;5;28msorted\u001b[39m(outgoing_edge_map\u001b[38;5;241m.\u001b[39mitems()):\n\u001b[1;32m     88\u001b[0m     \u001b[38;5;28;01mif\u001b[39;00m \u001b[38;5;28mlen\u001b[39m(downstreams) \u001b[38;5;241m>\u001b[39m \u001b[38;5;241m1\u001b[39m:\n\u001b[1;32m     89\u001b[0m         \u001b[38;5;66;03m# TODO: automatically insert `splits` ahead of time via graph transformation.\u001b[39;00m\n\u001b[0;32m---> 90\u001b[0m         \u001b[38;5;28;01mraise\u001b[39;00m \u001b[38;5;167;01mValueError\u001b[39;00m(\n\u001b[1;32m     91\u001b[0m             \u001b[38;5;124m'\u001b[39m\u001b[38;5;124mEncountered \u001b[39m\u001b[38;5;132;01m{}\u001b[39;00m\u001b[38;5;124m with multiple outgoing edges with same upstream label \u001b[39m\u001b[38;5;132;01m{!r}\u001b[39;00m\u001b[38;5;124m; a \u001b[39m\u001b[38;5;124m'\u001b[39m\n\u001b[1;32m     92\u001b[0m             \u001b[38;5;124m'\u001b[39m\u001b[38;5;124m`split` filter is probably required\u001b[39m\u001b[38;5;124m'\u001b[39m\u001b[38;5;241m.\u001b[39mformat(\n\u001b[1;32m     93\u001b[0m                 upstream_node, upstream_label\n\u001b[1;32m     94\u001b[0m             )\n\u001b[1;32m     95\u001b[0m         )\n\u001b[1;32m     96\u001b[0m     stream_name_map[upstream_node, upstream_label] \u001b[38;5;241m=\u001b[39m \u001b[38;5;124m'\u001b[39m\u001b[38;5;124ms\u001b[39m\u001b[38;5;132;01m{}\u001b[39;00m\u001b[38;5;124m'\u001b[39m\u001b[38;5;241m.\u001b[39mformat(stream_count)\n\u001b[1;32m     97\u001b[0m     stream_count \u001b[38;5;241m+\u001b[39m\u001b[38;5;241m=\u001b[39m \u001b[38;5;241m1\u001b[39m\n",
      "\u001b[0;31mValueError\u001b[0m: Encountered concat(n=5) <d70838d97fd8> with multiple outgoing edges with same upstream label None; a `split` filter is probably required"
     ]
    }
   ],
   "source": [
    "clip_paths = []\n",
    "    \n",
    "for path, subdirs, files in os.walk(clip_dir):\n",
    "\n",
    "    for name in files:\n",
    "\n",
    "        filename, file_extension = os.path.splitext(name)\n",
    "\n",
    "        if file_extension == '.mp4':\n",
    "            \n",
    "            clip_paths.append(filename)\n",
    "\n",
    "clips = []\n",
    "for path in clip_paths:\n",
    "    \n",
    "    stream = (\n",
    "        ffmpeg\n",
    "        .input(\n",
    "            path        \n",
    "        )\n",
    "    )\n",
    "    clips.append(stream)\n",
    "\n",
    "all_clips = ffmpeg.concat(*clips)\n",
    "\n",
    "out_dir = \"ffmpeg_out\"\n",
    "\n",
    "if not os.path.exists(out_dir):\n",
    "    \n",
    "    os.mkdir(out_dir)\n",
    "\n",
    "out_path = os.path.join(out_dir, \"random_comp.mp4\")\n",
    "\n",
    "ffmpeg.output(all_clips, all_clips.audio, out_path, format='mp4', vcodec='h264', acodec='aac', r=frame_rate).global_args('-loglevel', 'quiet').overwrite_output().run()\n",
    "\n"
   ]
  },
  {
   "cell_type": "code",
   "execution_count": null,
   "id": "011af0d7-8117-4b11-addc-43574540f992",
   "metadata": {},
   "outputs": [],
   "source": []
  }
 ],
 "metadata": {
  "kernelspec": {
   "display_name": "Python 3 (ipykernel)",
   "language": "python",
   "name": "python3"
  },
  "language_info": {
   "codemirror_mode": {
    "name": "ipython",
    "version": 3
   },
   "file_extension": ".py",
   "mimetype": "text/x-python",
   "name": "python",
   "nbconvert_exporter": "python",
   "pygments_lexer": "ipython3",
   "version": "3.9.13"
  }
 },
 "nbformat": 4,
 "nbformat_minor": 5
}
