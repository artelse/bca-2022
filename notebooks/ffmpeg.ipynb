{
 "cells": [
  {
   "cell_type": "code",
   "execution_count": null,
   "id": "44dbfed9-598e-4ddf-bd4a-2cb45fa8928a",
   "metadata": {},
   "outputs": [],
   "source": [
    "!pip install ffmpeg "
   ]
  },
  {
   "cell_type": "code",
   "execution_count": null,
   "id": "9a8b4106-de5c-4e9d-be11-bf315012b72c",
   "metadata": {},
   "outputs": [],
   "source": [
    "!pip install ffmpeg-python"
   ]
  },
  {
   "cell_type": "code",
   "execution_count": null,
   "id": "9725a787-5014-47ae-99e2-f7c47265be9f",
   "metadata": {},
   "outputs": [],
   "source": [
    "import ffmpeg"
   ]
  },
  {
   "cell_type": "code",
   "execution_count": null,
   "id": "36f5309d-a8ae-464c-a0e6-25e67976acc3",
   "metadata": {},
   "outputs": [],
   "source": [
    "video_path = \"yt_vids/OYN8mZ5nCQY.mp4\""
   ]
  },
  {
   "cell_type": "code",
   "execution_count": null,
   "id": "23fda258-67cd-4564-a86b-3e3034bdc6d0",
   "metadata": {},
   "outputs": [],
   "source": [
    "probe = ffmpeg.probe(video_path)\n",
    "\n",
    "vid_probe = next((stream for stream in probe['streams'] if stream['codec_type'] == 'video'), None)\n",
    "\n",
    "if vid_probe is None:\n",
    "\n",
    "    print('[ERROR]: No video stream found', file=sys.stderr)\n",
    "    \n",
    "else:\n",
    "    \n",
    "    width = int(vid_probe['width'])\n",
    "    height = int(vid_probe['height'])\n",
    "    codec = str(vid_probe['codec_name'])\n",
    "    duration = float(vid_probe['duration'])\n",
    "    frame_rate = str(vid_probe['r_frame_rate'])\n",
    "    \n",
    "print(\"width: {}, height: {}, codec: {}, duration: {}, frame rate: {}\".format(width, height, codec, duration, frame_rate))\n",
    "    "
   ]
  },
  {
   "cell_type": "code",
   "execution_count": null,
   "id": "e0736ebe-3205-42a1-a4fa-47129e77c5ac",
   "metadata": {},
   "outputs": [],
   "source": [
    "stream = (\n",
    "    ffmpeg\n",
    "    .input(\n",
    "        video_path,\n",
    "        ss = 2.0, # where to seek the video, in seconds\n",
    "        t = 3.0 # duration of clip, in seconds\n",
    "    )\n",
    ")\n",
    "\n",
    "out_path = 'yt_vids/test_clip.mp4'\n",
    "\n",
    "ffmpeg.output(stream, stream.audio, out_path, format='mp4', vcodec='h264', acodec='aac', r=frame_rate).global_args('-loglevel', 'quiet').overwrite_output().run()"
   ]
  },
  {
   "cell_type": "code",
   "execution_count": null,
   "id": "a89614f8-1de7-4c18-b4b5-63a5f96c68bf",
   "metadata": {},
   "outputs": [],
   "source": [
    "from IPython.display import Video\n",
    "\n",
    "Video(out_path)"
   ]
  },
  {
   "cell_type": "code",
   "execution_count": null,
   "id": "eb395cb3-69ca-4ce6-9ef0-72431d19e35a",
   "metadata": {},
   "outputs": [],
   "source": [
    "import random\n",
    "import os\n",
    "\n",
    "clip_dir = \"random_clips\"\n",
    "\n",
    "if not os.path.exists(clip_dir):\n",
    "    \n",
    "    os.mkdir(clip_dir)\n",
    "        \n",
    "def get_random_clip(video):\n",
    "    \n",
    "    clip_duration = 1.0\n",
    "\n",
    "    max_time = duration - clip_duration\n",
    "    \n",
    "    rnd_start = random.uniform(0.0, max_time)\n",
    "    \n",
    "    stream = (\n",
    "        ffmpeg\n",
    "        .input(\n",
    "            video,        \n",
    "            ss = rnd_start, # where to seek the video, in seconds\n",
    "            t = max_time # duration of clip, in seconds\n",
    "        )\n",
    "    )\n",
    "    \n",
    "    return stream\n",
    "    \n",
    "clip_amount = 5\n",
    "\n",
    "for i in range(clip_amount):\n",
    "    \n",
    "    stream = get_random_clip(video_path)\n",
    "    \n",
    "    out_path = os.path.join(clip_dir, \"clip_{}.mp4\".format(i+1))\n",
    "\n",
    "    ffmpeg.output(stream, stream.audio, out_path, format='mp4', vcodec='h264', acodec='aac', r=frame_rate).global_args('-loglevel', 'quiet').overwrite_output().run()\n",
    "    \n",
    "    # clips.append(rnd_clip)"
   ]
  },
  {
   "cell_type": "code",
   "execution_count": null,
   "id": "69234a2d-3dd3-45f4-b5d6-e9081867634a",
   "metadata": {},
   "outputs": [],
   "source": [
    "clip_paths = []\n",
    "    \n",
    "for path, subdirs, files in os.walk(clip_dir):\n",
    "\n",
    "    for name in files:\n",
    "\n",
    "        filename, file_extension = os.path.splitext(name)\n",
    "\n",
    "        if file_extension == '.mp4':\n",
    "            \n",
    "            clip_paths.append(filename)\n",
    "\n",
    "clips = []\n",
    "for path in clip_paths:\n",
    "    \n",
    "    stream = (\n",
    "        ffmpeg\n",
    "        .input(\n",
    "            path        \n",
    "        )\n",
    "    )\n",
    "    clips.append(stream)\n",
    "\n",
    "all_clips = ffmpeg.concat(*clips)\n",
    "\n",
    "out_dir = \"ffmpeg_out\"\n",
    "\n",
    "if not os.path.exists(out_dir):\n",
    "    \n",
    "    os.mkdir(out_dir)\n",
    "\n",
    "out_path = os.path.join(out_dir, \"random_comp.mp4\")\n",
    "\n",
    "ffmpeg.output(all_clips, all_clips.audio, out_path, format='mp4', vcodec='h264', acodec='aac', r=frame_rate).global_args('-loglevel', 'quiet').overwrite_output().run()\n",
    "\n"
   ]
  },
  {
   "cell_type": "markdown",
   "id": "787fac43-b5f1-49d6-8064-dddd6eac23e1",
   "metadata": {},
   "source": [
    "## Using python to create supercuts with subtitle files\n",
    "\n",
    "https://lav.io/2014/06/videogrep-automatic-supercuts-with-python/   \n",
    "\n",
    "https://github.com/antiboredom/videogrep  \n",
    "\n",
    "https://www.youtube.com/embed/qEtEbXVbYJQ?feature=oembed  "
   ]
  }
 ],
 "metadata": {
  "kernelspec": {
   "display_name": "Python 3 (ipykernel)",
   "language": "python",
   "name": "python3"
  },
  "language_info": {
   "codemirror_mode": {
    "name": "ipython",
    "version": 3
   },
   "file_extension": ".py",
   "mimetype": "text/x-python",
   "name": "python",
   "nbconvert_exporter": "python",
   "pygments_lexer": "ipython3",
   "version": "3.9.13"
  }
 },
 "nbformat": 4,
 "nbformat_minor": 5
}
