{
 "cells": [
  {
   "cell_type": "markdown",
   "id": "a6c4a0af-ea7f-4b14-9f5b-049dfeb54686",
   "metadata": {
    "tags": []
   },
   "source": [
    "# Getting Data (API's, scraping, etc.)"
   ]
  },
  {
   "cell_type": "code",
   "execution_count": 7,
   "id": "a4161438-a8cf-41fe-9639-6d153a5adc80",
   "metadata": {},
   "outputs": [
    {
     "data": {
      "text/html": [
       "<img src=\"https://cdn.sanity.io/images/rzso0e8h/production/da8c3c8105c221ea003ea67057b5a75de819d36d-1920x1280.jpg?w=1920&h=1280&auto=format\"/>"
      ],
      "text/plain": [
       "<IPython.core.display.Image object>"
      ]
     },
     "execution_count": 7,
     "metadata": {},
     "output_type": "execute_result"
    }
   ],
   "source": [
    "from IPython.display import Image\n",
    "Image(url='https://cdn.sanity.io/images/rzso0e8h/production/da8c3c8105c221ea003ea67057b5a75de819d36d-1920x1280.jpg?w=1920&h=1280&auto=format')"
   ]
  },
  {
   "cell_type": "markdown",
   "id": "9296ca5a-0d6b-4ed4-9983-b360fdf84510",
   "metadata": {},
   "source": [
    "source: https://labor.org.mx/en/exhibitions/printing-out-the-internet"
   ]
  },
  {
   "cell_type": "code",
   "execution_count": null,
   "id": "bdd6a66d-ef43-4688-8b09-def6f4e7f592",
   "metadata": {},
   "outputs": [],
   "source": [
    "https://christopherbaker.net/projects/murmur-study/"
   ]
  },
  {
   "cell_type": "code",
   "execution_count": null,
   "id": "df129549-ec5d-42e9-b90d-ce1a4d37cc71",
   "metadata": {},
   "outputs": [],
   "source": [
    "https://twitter.com/everylotla"
   ]
  },
  {
   "cell_type": "markdown",
   "id": "6f22e866-9fad-475b-b7a6-a325eb2db478",
   "metadata": {},
   "source": [
    "### Data sets\n",
    "\n",
    "Need a collection of hugs and kisses, a huge collection of New York Times articles?  \n",
    "https://academictorrents.com\n",
    "\n",
    "Text corpora  \n",
    "https://github.com/dariusk/corpora/tree/master/data\n",
    "\n",
    "Data from around the world  \n",
    "http://datacatalogs.org/\n",
    "\n",
    "Machine learning datasets  \n",
    "https://www.kaggle.com/datasets\n"
   ]
  },
  {
   "cell_type": "markdown",
   "id": "f5b27e2c-771a-4c5c-808a-be78628f6695",
   "metadata": {},
   "source": [
    "### API's"
   ]
  },
  {
   "cell_type": "markdown",
   "id": "6da76ae1-537d-42ef-9d51-284106cd04ea",
   "metadata": {},
   "source": [
    "#### Wikipedia"
   ]
  },
  {
   "cell_type": "code",
   "execution_count": 2,
   "id": "eb91644c-fa5a-4cf1-9fb7-825b8eb61c32",
   "metadata": {},
   "outputs": [
    {
     "name": "stdout",
     "output_type": "stream",
     "text": [
      "Collecting wikipedia\n",
      "  Downloading wikipedia-1.4.0.tar.gz (27 kB)\n",
      "  Preparing metadata (setup.py) ... \u001b[?25ldone\n",
      "\u001b[?25hRequirement already satisfied: beautifulsoup4 in /Users/c/anaconda3/envs/bca/lib/python3.9/site-packages (from wikipedia) (4.11.1)\n",
      "Requirement already satisfied: requests<3.0.0,>=2.0.0 in /Users/c/anaconda3/envs/bca/lib/python3.9/site-packages (from wikipedia) (2.28.1)\n",
      "Requirement already satisfied: charset-normalizer<3,>=2 in /Users/c/anaconda3/envs/bca/lib/python3.9/site-packages (from requests<3.0.0,>=2.0.0->wikipedia) (2.1.1)\n",
      "Requirement already satisfied: certifi>=2017.4.17 in /Users/c/anaconda3/envs/bca/lib/python3.9/site-packages (from requests<3.0.0,>=2.0.0->wikipedia) (2022.9.24)\n",
      "Requirement already satisfied: idna<4,>=2.5 in /Users/c/anaconda3/envs/bca/lib/python3.9/site-packages (from requests<3.0.0,>=2.0.0->wikipedia) (3.4)\n",
      "Requirement already satisfied: urllib3<1.27,>=1.21.1 in /Users/c/anaconda3/envs/bca/lib/python3.9/site-packages (from requests<3.0.0,>=2.0.0->wikipedia) (1.26.12)\n",
      "Requirement already satisfied: soupsieve>1.2 in /Users/c/anaconda3/envs/bca/lib/python3.9/site-packages (from beautifulsoup4->wikipedia) (2.3.2.post1)\n",
      "Building wheels for collected packages: wikipedia\n",
      "  Building wheel for wikipedia (setup.py) ... \u001b[?25ldone\n",
      "\u001b[?25h  Created wheel for wikipedia: filename=wikipedia-1.4.0-py3-none-any.whl size=11680 sha256=10223821d7337004b201098fa16cb8cc5a352cb12bb0f83e80191c42b3f52fd9\n",
      "  Stored in directory: /Users/c/Library/Caches/pip/wheels/c2/46/f4/caa1bee71096d7b0cdca2f2a2af45cacf35c5760bee8f00948\n",
      "Successfully built wikipedia\n",
      "Installing collected packages: wikipedia\n",
      "Successfully installed wikipedia-1.4.0\n"
     ]
    }
   ],
   "source": [
    "!pip install wikipedia"
   ]
  },
  {
   "cell_type": "code",
   "execution_count": 5,
   "id": "4d841271-f16c-4d9f-a927-6718763b3f24",
   "metadata": {},
   "outputs": [
    {
     "name": "stdout",
     "output_type": "stream",
     "text": [
      "['WTF', '.wtf', 'WTF?!', 'WTF with Marc Maron', 'UTF-8', 'List of WTF with Marc Maron episodes', 'Marc Maron', \"Tabby's Star\", 'Fuck', 'WTF! (film)']\n",
      "In common usage, randomness is the apparent or actual lack of pattern or predictability in events. A random sequence of events, symbols or steps often has no order and does not follow an intelligible pattern or combination. Individual random events are, by definition, unpredictable, but if the probability distribution is known, the frequency of different outcomes over repeated events (or \"trials\") is predictable. For example, when throwing two dice, the outcome of any particular roll is unpredictable, but a sum of 7 will tend to occur twice as often as 4. In this view, randomness is not haphazardness; it is a measure of uncertainty of an outcome. Randomness applies to concepts of chance, probability, and information entropy.\n",
      "The fields of mathematics, probability, and statistics use formal definitions of randomness. In statistics, a random variable is an assignment of a numerical value to each possible outcome of an event space. This association facilitates the identification and the calculation of probabilities of the events. Random variables can appear in random sequences. A random process is a sequence of random variables whose outcomes do not follow a deterministic pattern, but follow an evolution described by probability distributions. These and other constructs are extremely useful in probability theory and the various applications of randomness.\n",
      "Randomness is most often used in statistics to signify well-defined statistical properties. Monte Carlo methods, which rely on random input (such as from random number generators or pseudorandom number generators), are important techniques in science, particularly in the field of computational science. By analogy, quasi-Monte Carlo methods use quasi-random number generators.\n",
      "Random selection, when narrowly associated with a simple random sample, is a method of selecting items (often called units) from a population where the probability of choosing a specific item is the proportion of those items in the population. For example, with a bowl containing just 10 red marbles and 90 blue marbles, a random selection mechanism would choose a red marble with probability 1/10. Note that a random selection mechanism that selected 10 marbles from this bowl would not necessarily result in 1 red and 9 blue. In situations where a population consists of items that are distinguishable, a random selection mechanism requires equal probabilities for any item to be chosen. That is, if the selection process is such that each member of a population, say research subjects, has the same probability of being chosen, then we can say the selection process is random.According to Ramsey theory, pure randomness is impossible, especially for large structures. Mathematician Theodore Motzkin suggested that \"while disorder is more probable in general, complete disorder is impossible\". Misunderstanding this can lead to numerous conspiracy theories. Cristian S. Calude stated that \"given the impossibility of true randomness, the effort is directed towards studying degrees of randomness\". It can be proven that there is infinite hierarchy (in terms of quality or strength) of forms of randomness.\n",
      "['Papists Act 1722', 'Dexter: Music from the Showtime Original Series']\n",
      "['https://upload.wikimedia.org/wikipedia/commons/a/ae/C%C3%B4ne_textileII.png', 'https://upload.wikimedia.org/wikipedia/commons/c/c6/Fast_erroneous_self_switching_of_audio_amp_inputs.webm', 'https://upload.wikimedia.org/wikipedia/commons/3/3f/Monty_open_door.svg', 'https://upload.wikimedia.org/wikipedia/commons/3/3e/Nuvola_apps_edu_mathematics_blue-p.svg', 'https://upload.wikimedia.org/wikipedia/commons/3/37/People_icon.svg', 'https://upload.wikimedia.org/wikipedia/commons/e/ec/RandomBitmap.png', 'https://upload.wikimedia.org/wikipedia/commons/2/26/Roulette_wheel.jpg', 'https://upload.wikimedia.org/wikipedia/commons/3/3a/Standard_deviation_diagram_micro.svg', 'https://upload.wikimedia.org/wikipedia/commons/f/fa/Wikiquote-logo.svg', 'https://upload.wikimedia.org/wikipedia/commons/0/0b/Wikiversity_logo_2017.svg', 'https://upload.wikimedia.org/wikipedia/commons/9/99/Wiktionary-logo-en-v2.svg', 'https://upload.wikimedia.org/wikipedia/commons/1/1e/Circle_map_poincare_recurrence.jpeg', 'https://upload.wikimedia.org/wikipedia/en/4/4a/Commons-logo.svg', 'https://upload.wikimedia.org/wikipedia/en/8/8a/OOjs_UI_icon_edit-ltr-progressive.svg', 'https://upload.wikimedia.org/wikipedia/commons/1/16/Pompeii_-_Osteria_della_Via_di_Mercurio_-_Dice_Players.jpg', 'https://upload.wikimedia.org/wikipedia/en/1/1b/Semi-protection-shackle.svg', 'https://upload.wikimedia.org/wikipedia/en/9/96/Symbol_category_class.svg']\n"
     ]
    },
    {
     "data": {
      "text/html": [
       "<img src=\"https://upload.wikimedia.org/wikipedia/commons/a/ae/C%C3%B4ne_textileII.png\"/>"
      ],
      "text/plain": [
       "<IPython.core.display.Image object>"
      ]
     },
     "execution_count": 5,
     "metadata": {},
     "output_type": "execute_result"
    }
   ],
   "source": [
    "import wikipedia\n",
    "\n",
    "'''\n",
    "Install wikipedia first\n",
    "pip install wikipedia\n",
    "\n",
    "Check wikipedia API doc: \n",
    "https://wikipedia.readthedocs.io/en/latest/code.html#api\n",
    "'''\n",
    "\n",
    "# Search for something\n",
    "print(wikipedia.search(\"wtf\"))\n",
    "\n",
    "# Get a summary of page \n",
    "print(wikipedia.summary(\"random\"))\n",
    "\n",
    "# Get a number of random topics\n",
    "print(wikipedia.random(pages=2))\n",
    "\n",
    "# Get a list of image urls of a page\n",
    "print(wikipedia.page(\"random\").images)\n",
    "\n",
    "# Or just the first image\n",
    "image_url = wikipedia.page(\"random\").images[0]\n",
    "\n",
    "from IPython.display import Image\n",
    "Image(url=image_url)"
   ]
  },
  {
   "cell_type": "markdown",
   "id": "585ec67f-ead2-4751-adda-3b34ff54b37d",
   "metadata": {},
   "source": [
    "https://en.wikipedia.org/wiki/Wikipedia:Getting_to_Philosophy"
   ]
  },
  {
   "cell_type": "markdown",
   "id": "f0cef3a6-112b-45c1-a7da-3b26e4626c49",
   "metadata": {},
   "source": [
    "### Reddit API wrapper (PRAW)"
   ]
  },
  {
   "cell_type": "code",
   "execution_count": 8,
   "id": "3783a8eb-398e-4124-84c3-8833f3a7bc5f",
   "metadata": {},
   "outputs": [
    {
     "name": "stdout",
     "output_type": "stream",
     "text": [
      "Collecting praw\n",
      "  Using cached praw-7.6.0-py3-none-any.whl (188 kB)\n",
      "Requirement already satisfied: websocket-client>=0.54.0 in /Users/c/anaconda3/envs/bca/lib/python3.9/site-packages (from praw) (1.4.1)\n",
      "Collecting update-checker>=0.18\n",
      "  Using cached update_checker-0.18.0-py3-none-any.whl (7.0 kB)\n",
      "Collecting prawcore<3,>=2.1\n",
      "  Using cached prawcore-2.3.0-py3-none-any.whl (16 kB)\n",
      "Requirement already satisfied: requests<3.0,>=2.6.0 in /Users/c/anaconda3/envs/bca/lib/python3.9/site-packages (from prawcore<3,>=2.1->praw) (2.28.1)\n",
      "Requirement already satisfied: certifi>=2017.4.17 in /Users/c/anaconda3/envs/bca/lib/python3.9/site-packages (from requests<3.0,>=2.6.0->prawcore<3,>=2.1->praw) (2022.9.24)\n",
      "Requirement already satisfied: idna<4,>=2.5 in /Users/c/anaconda3/envs/bca/lib/python3.9/site-packages (from requests<3.0,>=2.6.0->prawcore<3,>=2.1->praw) (3.4)\n",
      "Requirement already satisfied: charset-normalizer<3,>=2 in /Users/c/anaconda3/envs/bca/lib/python3.9/site-packages (from requests<3.0,>=2.6.0->prawcore<3,>=2.1->praw) (2.1.1)\n",
      "Requirement already satisfied: urllib3<1.27,>=1.21.1 in /Users/c/anaconda3/envs/bca/lib/python3.9/site-packages (from requests<3.0,>=2.6.0->prawcore<3,>=2.1->praw) (1.26.12)\n",
      "Installing collected packages: update-checker, prawcore, praw\n",
      "Successfully installed praw-7.6.0 prawcore-2.3.0 update-checker-0.18.0\n"
     ]
    }
   ],
   "source": [
    "!pip install praw"
   ]
  },
  {
   "cell_type": "code",
   "execution_count": 9,
   "id": "3956b5a7-1ea6-4664-84f6-acfb2a9f9068",
   "metadata": {},
   "outputs": [],
   "source": [
    "import praw"
   ]
  },
  {
   "cell_type": "code",
   "execution_count": null,
   "id": "1984aacc-ac73-4141-9c2a-b07fffc876b2",
   "metadata": {},
   "outputs": [],
   "source": [
    "print(\"INFO: Connecting to reddit...\")\n",
    "\n",
    "# For this api to work you need to first register an account \n",
    "# and fill in the data here\n",
    "\n",
    "r = praw.Reddit(\n",
    "    client_id=\"XWqof3jNyi70G1kOhxfVQg\",\n",
    "    client_secret=\"DmjiBIDvPDHf7vIMsVZDZC_LVJt_tw\",\n",
    "    user_agent=\"Zealousideal-Iron724\",\n",
    ")\n",
    "\n",
    "if not r.read_only:\n",
    "\n",
    "    raise Exception(\"ERROR: Can't connect to reddit\")\n",
    "\n",
    "else:\n",
    "\n",
    "    print(\"INFO: Connected\")\n",
    "    \n",
    "for submission in reddit.subreddit(\"worldnews\").hot(limit=10):\n",
    "    \n",
    "    print(submission.title)"
   ]
  },
  {
   "cell_type": "markdown",
   "id": "aa1b60ab-5f93-4bf9-aee5-ff9bc8f4fabb",
   "metadata": {},
   "source": [
    "### Youtube downloader (YT-DLP)"
   ]
  },
  {
   "cell_type": "code",
   "execution_count": 55,
   "id": "0d3c99e7-b0c4-41ea-b3ab-7bbc9ae1c424",
   "metadata": {},
   "outputs": [
    {
     "name": "stdout",
     "output_type": "stream",
     "text": [
      "Collecting yt-dlp\n",
      "  Using cached yt_dlp-2022.10.4-py2.py3-none-any.whl (2.7 MB)\n",
      "Requirement already satisfied: certifi in /Users/c/anaconda3/envs/bca/lib/python3.9/site-packages (from yt-dlp) (2022.9.24)\n",
      "Collecting pycryptodomex\n",
      "  Downloading pycryptodomex-3.15.0-cp35-abi3-macosx_10_9_x86_64.whl (1.6 MB)\n",
      "\u001b[2K     \u001b[90m━━━━━━━━━━━━━━━━━━━━━━━━━━━━━━━━━━━━━━━━\u001b[0m \u001b[32m1.6/1.6 MB\u001b[0m \u001b[31m9.5 MB/s\u001b[0m eta \u001b[36m0:00:00\u001b[0m:00:01\u001b[0m00:01\u001b[0m\n",
      "\u001b[?25hCollecting mutagen\n",
      "  Downloading mutagen-1.46.0-py3-none-any.whl (193 kB)\n",
      "\u001b[2K     \u001b[90m━━━━━━━━━━━━━━━━━━━━━━━━━━━━━━━━━━━━━━━\u001b[0m \u001b[32m193.6/193.6 kB\u001b[0m \u001b[31m6.6 MB/s\u001b[0m eta \u001b[36m0:00:00\u001b[0m\n",
      "\u001b[?25hCollecting brotli\n",
      "  Using cached Brotli-1.0.9-cp39-cp39-macosx_10_9_x86_64.whl (421 kB)\n",
      "Collecting websockets\n",
      "  Downloading websockets-10.4-cp39-cp39-macosx_10_9_x86_64.whl (97 kB)\n",
      "\u001b[2K     \u001b[90m━━━━━━━━━━━━━━━━━━━━━━━━━━━━━━━━━━━━━━━━\u001b[0m \u001b[32m97.9/97.9 kB\u001b[0m \u001b[31m6.7 MB/s\u001b[0m eta \u001b[36m0:00:00\u001b[0m\n",
      "\u001b[?25hInstalling collected packages: brotli, websockets, pycryptodomex, mutagen, yt-dlp\n",
      "Successfully installed brotli-1.0.9 mutagen-1.46.0 pycryptodomex-3.15.0 websockets-10.4 yt-dlp-2022.10.4\n"
     ]
    }
   ],
   "source": [
    "!pip install yt-dlp"
   ]
  },
  {
   "cell_type": "code",
   "execution_count": 53,
   "id": "96cbe970-ded3-4352-a0bb-370386ae2000",
   "metadata": {},
   "outputs": [],
   "source": [
    "!mkdir yt_vids"
   ]
  },
  {
   "cell_type": "code",
   "execution_count": 69,
   "id": "42b78d7a-8d8a-48f5-b911-ddec64b311ab",
   "metadata": {},
   "outputs": [
    {
     "name": "stdout",
     "output_type": "stream",
     "text": [
      "[youtube] ysU9hh4pBjc: Downloading webpage\n",
      "[youtube] ysU9hh4pBjc: Downloading android player API JSON\n",
      "width: 640, height: 480, duration: 3, title: 360 Rotation of a Scorpion, id: ysU9hh4pBjc\n",
      "[youtube] ysU9hh4pBjc: Downloading webpage\n",
      "[youtube] ysU9hh4pBjc: Downloading android player API JSON\n",
      "[info] ysU9hh4pBjc: Downloading 1 format(s): 135+140\n",
      "[download] yt_vids/ysU9hh4pBjc.mp4 has already been downloaded\n"
     ]
    }
   ],
   "source": [
    "import yt_dlp\n",
    "\n",
    "downloads = 'yt_vids'\n",
    "\n",
    "ydl_opts = {\n",
    "    'outtmpl': downloads + '/%(id)s.%(ext)s',\n",
    "    'quiet': False,\n",
    "    'format_sort': ['res:1080', 'ext:mp4:m4a'],\n",
    "    'ignoreerrors': False\n",
    "}\n",
    "\n",
    "URL = 'https://www.youtube.com/watch?v=ysU9hh4pBjc'\n",
    "\n",
    "with yt_dlp.YoutubeDL(ydl_opts) as ydl:\n",
    "    \n",
    "    info = ydl.extract_info(URL, download=False)\n",
    "    \n",
    "    if info:\n",
    "        width = info.get('width')\n",
    "        height = info.get('height')\n",
    "        duration = info.get('duration')\n",
    "        title = info.get('title')\n",
    "        id = info.get('id')\n",
    "        \n",
    "    \n",
    "    print(\"width: {}, height: {}, duration: {}, title: {}, id: {}\".format(width, height, duration, title, id))\n",
    "    ydl.download(URL)   "
   ]
  },
  {
   "cell_type": "code",
   "execution_count": 60,
   "id": "a47deabf-4090-42eb-bf6e-706e9fdbd9a2",
   "metadata": {},
   "outputs": [
    {
     "name": "stdout",
     "output_type": "stream",
     "text": [
      "ysU9hh4pBjc\n"
     ]
    }
   ],
   "source": [
    "print(id)"
   ]
  },
  {
   "cell_type": "code",
   "execution_count": 61,
   "id": "09a6fc68-a648-4e2a-816f-a7dc679e3c95",
   "metadata": {},
   "outputs": [
    {
     "data": {
      "text/html": [
       "<video src=\"yt_vids/ysU9hh4pBjc.mp4\" controls  >\n",
       "      Your browser does not support the <code>video</code> element.\n",
       "    </video>"
      ],
      "text/plain": [
       "<IPython.core.display.Video object>"
      ]
     },
     "execution_count": 61,
     "metadata": {},
     "output_type": "execute_result"
    }
   ],
   "source": [
    "from IPython.display import Video\n",
    "\n",
    "Video(\"yt_vids/{}.mp4\".format(id))  "
   ]
  },
  {
   "cell_type": "markdown",
   "id": "b10ee5b9-f68f-4680-8dc9-dc4a0eb5efd7",
   "metadata": {},
   "source": [
    "You can find some documentation here: https://github.com/yt-dlp/yt-dlp#embedding-yt-dlp"
   ]
  },
  {
   "cell_type": "markdown",
   "id": "94192dc6-9d28-4224-98ad-a478890d60a9",
   "metadata": {},
   "source": [
    "### Downloading unsecured IP cameras"
   ]
  },
  {
   "cell_type": "code",
   "execution_count": null,
   "id": "47ec1417-bea5-4a54-829b-9f5ff4929b8a",
   "metadata": {},
   "outputs": [],
   "source": [
    "http://insecam.org/en/view/921591/"
   ]
  },
  {
   "cell_type": "code",
   "execution_count": 10,
   "id": "cc3ab26b-bd7f-4804-a2e3-05a6ee449202",
   "metadata": {},
   "outputs": [
    {
     "name": "stdout",
     "output_type": "stream",
     "text": [
      "Collecting ffmpeg-python\n",
      "  Using cached ffmpeg_python-0.2.0-py3-none-any.whl (25 kB)\n",
      "Collecting future\n",
      "  Using cached future-0.18.2-py3-none-any.whl\n",
      "Installing collected packages: future, ffmpeg-python\n",
      "Successfully installed ffmpeg-python-0.2.0 future-0.18.2\n"
     ]
    }
   ],
   "source": [
    "!pip install ffmpeg-python"
   ]
  },
  {
   "cell_type": "code",
   "execution_count": 44,
   "id": "3f137d11-9848-48fc-8893-eb9d89dbb0ef",
   "metadata": {},
   "outputs": [],
   "source": [
    "import ffmpeg \n",
    "import os\n",
    "import time"
   ]
  },
  {
   "cell_type": "code",
   "execution_count": 45,
   "id": "daeb4bed-31bd-4e5c-b4c7-01827f2b0281",
   "metadata": {},
   "outputs": [],
   "source": [
    "cam_urls = [\n",
    "    \"http://128.101.85.194/mjpg/video.mjpg\",\n",
    "    \"http://96.91.239.26:1024/mjpg/video.mjpg\",\n",
    "    \"http://84.82.29.229:8080/mjpg/video.mjpg\"\n",
    "]"
   ]
  },
  {
   "cell_type": "code",
   "execution_count": 51,
   "id": "62f2bd39-2472-4388-b249-9d6ea7c809c5",
   "metadata": {},
   "outputs": [],
   "source": [
    "def download_from_ip(url, dir, idx):\n",
    "\n",
    "    out_path = os.path.join(dir, \"stream_{:03d}\".format(idx))\n",
    "    \n",
    "    process = (\n",
    "        ffmpeg\n",
    "        .input(url)\n",
    "        .output('{}.mkv'.format(out_path), codec=\"copy\")\n",
    "        .overwrite_output()\n",
    "        .run_async(pipe_stdout=True)\n",
    "    )\n",
    "    \n",
    "    print(\"starting capture\")\n",
    "    time.sleep(10)\n",
    "    print(\"ending capture\")\n",
    "    process.stdout.close()\n",
    "    process.kill()\n",
    "        "
   ]
  },
  {
   "cell_type": "code",
   "execution_count": 52,
   "id": "430720da-a275-491e-9ae3-b3afb48ea54c",
   "metadata": {},
   "outputs": [
    {
     "name": "stdout",
     "output_type": "stream",
     "text": [
      "starting capture\n"
     ]
    },
    {
     "name": "stderr",
     "output_type": "stream",
     "text": [
      "ffmpeg version 5.0.1 Copyright (c) 2000-2022 the FFmpeg developers\n",
      "  built with Apple clang version 13.0.0 (clang-1300.0.29.30)\n",
      "  configuration: --prefix=/usr/local/Cellar/ffmpeg/5.0.1 --enable-shared --enable-pthreads --enable-version3 --cc=clang --host-cflags= --host-ldflags= --enable-ffplay --enable-gnutls --enable-gpl --enable-libaom --enable-libbluray --enable-libdav1d --enable-libmp3lame --enable-libopus --enable-librav1e --enable-librist --enable-librubberband --enable-libsnappy --enable-libsrt --enable-libtesseract --enable-libtheora --enable-libvidstab --enable-libvmaf --enable-libvorbis --enable-libvpx --enable-libwebp --enable-libx264 --enable-libx265 --enable-libxml2 --enable-libxvid --enable-lzma --enable-libfontconfig --enable-libfreetype --enable-frei0r --enable-libass --enable-libopencore-amrnb --enable-libopencore-amrwb --enable-libopenjpeg --enable-libspeex --enable-libsoxr --enable-libzmq --enable-libzimg --disable-libjack --disable-indev=jack --enable-videotoolbox\n",
      "  libavutil      57. 17.100 / 57. 17.100\n",
      "  libavcodec     59. 18.100 / 59. 18.100\n",
      "  libavformat    59. 16.100 / 59. 16.100\n",
      "  libavdevice    59.  4.100 / 59.  4.100\n",
      "  libavfilter     8. 24.100 /  8. 24.100\n",
      "  libswscale      6.  4.100 /  6.  4.100\n",
      "  libswresample   4.  3.100 /  4.  3.100\n",
      "  libpostproc    56.  3.100 / 56.  3.100\n",
      "Input #0, mpjpeg, from 'http://128.101.85.194/mjpg/video.mjpg':\n",
      "  Duration: N/A, bitrate: N/A\n",
      "  Stream #0:0: Video: mjpeg (Baseline), yuvj420p(pc, bt470bg/unknown/unknown), 1280x720 [SAR 1:1 DAR 16:9], 25 tbr, 25 tbn\n",
      "Output #0, matroska, to 'insecam_streams/stream_000.mkv':\n",
      "  Metadata:\n",
      "    encoder         : Lavf59.16.100\n",
      "  Stream #0:0: Video: mjpeg (Baseline) (MJPG / 0x47504A4D), yuvj420p(pc, bt470bg/unknown/unknown), 1280x720 [SAR 1:1 DAR 16:9], q=2-31, 25 tbr, 1k tbn\n",
      "Stream mapping:\n",
      "  Stream #0:0 -> #0:0 (copy)\n",
      "Press [q] to stop, [?] for help\n",
      "frame=   11 fps=1.7 q=-1.0 size=    2048kB time=00:00:00.40 bitrate=41838.4kbits/s speed=0.0628x    \r"
     ]
    },
    {
     "name": "stdout",
     "output_type": "stream",
     "text": [
      "ending capture\n",
      "starting capture\n"
     ]
    },
    {
     "name": "stderr",
     "output_type": "stream",
     "text": [
      "ffmpeg version 5.0.1 Copyright (c) 2000-2022 the FFmpeg developers\n",
      "  built with Apple clang version 13.0.0 (clang-1300.0.29.30)\n",
      "  configuration: --prefix=/usr/local/Cellar/ffmpeg/5.0.1 --enable-shared --enable-pthreads --enable-version3 --cc=clang --host-cflags= --host-ldflags= --enable-ffplay --enable-gnutls --enable-gpl --enable-libaom --enable-libbluray --enable-libdav1d --enable-libmp3lame --enable-libopus --enable-librav1e --enable-librist --enable-librubberband --enable-libsnappy --enable-libsrt --enable-libtesseract --enable-libtheora --enable-libvidstab --enable-libvmaf --enable-libvorbis --enable-libvpx --enable-libwebp --enable-libx264 --enable-libx265 --enable-libxml2 --enable-libxvid --enable-lzma --enable-libfontconfig --enable-libfreetype --enable-frei0r --enable-libass --enable-libopencore-amrnb --enable-libopencore-amrwb --enable-libopenjpeg --enable-libspeex --enable-libsoxr --enable-libzmq --enable-libzimg --disable-libjack --disable-indev=jack --enable-videotoolbox\n",
      "  libavutil      57. 17.100 / 57. 17.100\n",
      "  libavcodec     59. 18.100 / 59. 18.100\n",
      "  libavformat    59. 16.100 / 59. 16.100\n",
      "  libavdevice    59.  4.100 / 59.  4.100\n",
      "  libavfilter     8. 24.100 /  8. 24.100\n",
      "  libswscale      6.  4.100 /  6.  4.100\n",
      "  libswresample   4.  3.100 /  4.  3.100\n",
      "  libpostproc    56.  3.100 / 56.  3.100\n",
      "Input #0, mpjpeg, from 'http://96.91.239.26:1024/mjpg/video.mjpg':\n",
      "  Duration: N/A, bitrate: N/A\n",
      "  Stream #0:0: Video: mjpeg (Baseline), yuvj420p(pc, bt470bg/unknown/unknown), 1280x720 [SAR 1:1 DAR 16:9], 25 tbr, 25 tbn\n",
      "Output #0, matroska, to 'insecam_streams/stream_001.mkv':\n",
      "  Metadata:\n",
      "    encoder         : Lavf59.16.100\n",
      "  Stream #0:0: Video: mjpeg (Baseline) (MJPG / 0x47504A4D), yuvj420p(pc, bt470bg/unknown/unknown), 1280x720 [SAR 1:1 DAR 16:9], q=2-31, 25 tbr, 1k tbn\n",
      "Stream mapping:\n",
      "  Stream #0:0 -> #0:0 (copy)\n",
      "Press [q] to stop, [?] for help\n",
      "frame=   31 fps=3.8 q=-1.0 size=    1024kB time=00:00:01.20 bitrate=6984.7kbits/s speed=0.148x     \r"
     ]
    },
    {
     "name": "stdout",
     "output_type": "stream",
     "text": [
      "ending capture\n",
      "starting capture\n"
     ]
    },
    {
     "name": "stderr",
     "output_type": "stream",
     "text": [
      "ffmpeg version 5.0.1 Copyright (c) 2000-2022 the FFmpeg developers\n",
      "  built with Apple clang version 13.0.0 (clang-1300.0.29.30)\n",
      "  configuration: --prefix=/usr/local/Cellar/ffmpeg/5.0.1 --enable-shared --enable-pthreads --enable-version3 --cc=clang --host-cflags= --host-ldflags= --enable-ffplay --enable-gnutls --enable-gpl --enable-libaom --enable-libbluray --enable-libdav1d --enable-libmp3lame --enable-libopus --enable-librav1e --enable-librist --enable-librubberband --enable-libsnappy --enable-libsrt --enable-libtesseract --enable-libtheora --enable-libvidstab --enable-libvmaf --enable-libvorbis --enable-libvpx --enable-libwebp --enable-libx264 --enable-libx265 --enable-libxml2 --enable-libxvid --enable-lzma --enable-libfontconfig --enable-libfreetype --enable-frei0r --enable-libass --enable-libopencore-amrnb --enable-libopencore-amrwb --enable-libopenjpeg --enable-libspeex --enable-libsoxr --enable-libzmq --enable-libzimg --disable-libjack --disable-indev=jack --enable-videotoolbox\n",
      "  libavutil      57. 17.100 / 57. 17.100\n",
      "  libavcodec     59. 18.100 / 59. 18.100\n",
      "  libavformat    59. 16.100 / 59. 16.100\n",
      "  libavdevice    59.  4.100 / 59.  4.100\n",
      "  libavfilter     8. 24.100 /  8. 24.100\n",
      "  libswscale      6.  4.100 /  6.  4.100\n",
      "  libswresample   4.  3.100 /  4.  3.100\n",
      "  libpostproc    56.  3.100 / 56.  3.100\n",
      "Input #0, mpjpeg, from 'http://84.82.29.229:8080/mjpg/video.mjpg':\n",
      "  Duration: N/A, bitrate: N/A\n",
      "  Stream #0:0: Video: mjpeg (Baseline), yuvj420p(pc, bt470bg/unknown/unknown), 800x600 [SAR 1:1 DAR 4:3], 25 tbr, 25 tbn\n",
      "Output #0, matroska, to 'insecam_streams/stream_002.mkv':\n",
      "  Metadata:\n",
      "    encoder         : Lavf59.16.100\n",
      "  Stream #0:0: Video: mjpeg (Baseline) (MJPG / 0x47504A4D), yuvj420p(pc, bt470bg/unknown/unknown), 800x600 [SAR 1:1 DAR 4:3], q=2-31, 25 tbr, 1k tbn\n",
      "Stream mapping:\n",
      "  Stream #0:0 -> #0:0 (copy)\n",
      "Press [q] to stop, [?] for help\n",
      "frame=  243 fps= 27 q=-1.0 size=   10752kB time=00:00:09.68 bitrate=9098.3kbits/s speed=1.08x    \r"
     ]
    },
    {
     "name": "stdout",
     "output_type": "stream",
     "text": [
      "ending capture\n"
     ]
    },
    {
     "name": "stderr",
     "output_type": "stream",
     "text": [
      "frame=  259 fps= 27 q=-1.0 size=   11264kB time=00:00:10.32 bitrate=8940.5kbits/s speed=1.08x    \r"
     ]
    }
   ],
   "source": [
    "out_dir = \"insecam_streams\"\n",
    "\n",
    "if not os.path.exists(out_dir):\n",
    "    \n",
    "    os.makedirs(out_dir)\n",
    "\n",
    "for idx, url in enumerate(cam_urls):\n",
    "\n",
    "    download_from_ip(url, out_dir, idx)"
   ]
  },
  {
   "cell_type": "markdown",
   "id": "01447d37-cb30-4100-92f9-5264a4265bc2",
   "metadata": {},
   "source": [
    "### Download livstreams with streamlink"
   ]
  },
  {
   "cell_type": "code",
   "execution_count": 62,
   "id": "be5344d7-c29b-4d9a-b46f-8cb4388fc360",
   "metadata": {},
   "outputs": [
    {
     "name": "stdout",
     "output_type": "stream",
     "text": [
      "Collecting streamlink\n",
      "  Downloading streamlink-5.0.1-py3-none-any.whl (351 kB)\n",
      "\u001b[2K     \u001b[90m━━━━━━━━━━━━━━━━━━━━━━━━━━━━━━━━━━━━━━━\u001b[0m \u001b[32m351.1/351.1 kB\u001b[0m \u001b[31m5.9 MB/s\u001b[0m eta \u001b[36m0:00:00\u001b[0ma \u001b[36m0:00:01\u001b[0m\n",
      "\u001b[?25hCollecting lxml<5.0,>=4.6.4\n",
      "  Using cached lxml-4.9.1-cp39-cp39-macosx_10_15_x86_64.whl (4.6 MB)\n",
      "Requirement already satisfied: requests<3.0,>=2.26.0 in /Users/c/anaconda3/envs/bca/lib/python3.9/site-packages (from streamlink) (2.28.1)\n",
      "Collecting isodate\n",
      "  Using cached isodate-0.6.1-py2.py3-none-any.whl (41 kB)\n",
      "Collecting pycryptodome<4,>=3.4.3\n",
      "  Using cached pycryptodome-3.15.0-cp35-abi3-macosx_10_9_x86_64.whl (1.6 MB)\n",
      "Collecting pycountry\n",
      "  Using cached pycountry-22.3.5-py2.py3-none-any.whl\n",
      "Collecting PySocks!=1.5.7,>=1.5.6\n",
      "  Using cached PySocks-1.7.1-py3-none-any.whl (16 kB)\n",
      "Requirement already satisfied: websocket-client<2.0,>=1.2.1 in /Users/c/anaconda3/envs/bca/lib/python3.9/site-packages (from streamlink) (1.4.1)\n",
      "Requirement already satisfied: urllib3<1.27,>=1.21.1 in /Users/c/anaconda3/envs/bca/lib/python3.9/site-packages (from requests<3.0,>=2.26.0->streamlink) (1.26.12)\n",
      "Requirement already satisfied: idna<4,>=2.5 in /Users/c/anaconda3/envs/bca/lib/python3.9/site-packages (from requests<3.0,>=2.26.0->streamlink) (3.4)\n",
      "Requirement already satisfied: certifi>=2017.4.17 in /Users/c/anaconda3/envs/bca/lib/python3.9/site-packages (from requests<3.0,>=2.26.0->streamlink) (2022.9.24)\n",
      "Requirement already satisfied: charset-normalizer<3,>=2 in /Users/c/anaconda3/envs/bca/lib/python3.9/site-packages (from requests<3.0,>=2.26.0->streamlink) (2.1.1)\n",
      "Requirement already satisfied: six in /Users/c/anaconda3/envs/bca/lib/python3.9/site-packages (from isodate->streamlink) (1.16.0)\n",
      "Requirement already satisfied: setuptools in /Users/c/anaconda3/envs/bca/lib/python3.9/site-packages (from pycountry->streamlink) (65.4.0)\n",
      "Installing collected packages: PySocks, pycryptodome, pycountry, lxml, isodate, streamlink\n",
      "Successfully installed PySocks-1.7.1 isodate-0.6.1 lxml-4.9.1 pycountry-22.3.5 pycryptodome-3.15.0 streamlink-5.0.1\n"
     ]
    }
   ],
   "source": [
    "!pip install streamlink"
   ]
  },
  {
   "cell_type": "code",
   "execution_count": 68,
   "id": "d7993c13-61cc-44bc-a4f9-49c3708a7c66",
   "metadata": {},
   "outputs": [
    {
     "name": "stderr",
     "output_type": "stream",
     "text": [
      "Could not find JSON data. Invalid URL or bot protection...\n"
     ]
    },
    {
     "name": "stdout",
     "output_type": "stream",
     "text": [
      "couldn't find stream at https://www.bloomberg.com/live/europe\n",
      "found stream at https://d4xunn272arip.cloudfront.net/hls/c9n_360.m3u8\n",
      "starting capture\n"
     ]
    },
    {
     "name": "stderr",
     "output_type": "stream",
     "text": [
      "ffmpeg version 5.0.1 Copyright (c) 2000-2022 the FFmpeg developers\n",
      "  built with Apple clang version 13.0.0 (clang-1300.0.29.30)\n",
      "  configuration: --prefix=/usr/local/Cellar/ffmpeg/5.0.1 --enable-shared --enable-pthreads --enable-version3 --cc=clang --host-cflags= --host-ldflags= --enable-ffplay --enable-gnutls --enable-gpl --enable-libaom --enable-libbluray --enable-libdav1d --enable-libmp3lame --enable-libopus --enable-librav1e --enable-librist --enable-librubberband --enable-libsnappy --enable-libsrt --enable-libtesseract --enable-libtheora --enable-libvidstab --enable-libvmaf --enable-libvorbis --enable-libvpx --enable-libwebp --enable-libx264 --enable-libx265 --enable-libxml2 --enable-libxvid --enable-lzma --enable-libfontconfig --enable-libfreetype --enable-frei0r --enable-libass --enable-libopencore-amrnb --enable-libopencore-amrwb --enable-libopenjpeg --enable-libspeex --enable-libsoxr --enable-libzmq --enable-libzimg --disable-libjack --disable-indev=jack --enable-videotoolbox\n",
      "  libavutil      57. 17.100 / 57. 17.100\n",
      "  libavcodec     59. 18.100 / 59. 18.100\n",
      "  libavformat    59. 16.100 / 59. 16.100\n",
      "  libavdevice    59.  4.100 / 59.  4.100\n",
      "  libavfilter     8. 24.100 /  8. 24.100\n",
      "  libswscale      6.  4.100 /  6.  4.100\n",
      "  libswresample   4.  3.100 /  4.  3.100\n",
      "  libpostproc    56.  3.100 / 56.  3.100\n",
      "[hls @ 0x7f8eaf007440] Skip ('#EXT-X-VERSION:3')\n",
      "[hls @ 0x7f8eaf007440] Skip ('#EXT-X-DISCONTINUITY-SEQUENCE:2')\n",
      "[hls @ 0x7f8eaf007440] Opening 'https://d4xunn272arip.cloudfront.net/hls/c9n_360_290186.ts' for reading\n",
      "[hls @ 0x7f8eaf007440] Opening 'https://d4xunn272arip.cloudfront.net/hls/c9n_360_290187.ts' for reading\n",
      "Input #0, hls, from 'https://d4xunn272arip.cloudfront.net/hls/c9n_360.m3u8':\n",
      "  Duration: N/A, start: 79801.333956, bitrate: N/A\n",
      "  Program 0 \n",
      "    Metadata:\n",
      "      variant_bitrate : 0\n",
      "  Stream #0:0: Video: h264 (Main) ([27][0][0][0] / 0x001B), yuv420p(tv, bt709), 640x360 [SAR 1:1 DAR 16:9], 25 fps, 25 tbr, 90k tbn\n",
      "    Metadata:\n",
      "      variant_bitrate : 0\n",
      "  Stream #0:1: Audio: aac (LC) ([15][0][0][0] / 0x000F), 48000 Hz, stereo, fltp\n",
      "    Metadata:\n",
      "      variant_bitrate : 0\n",
      "  Stream #0:2: Data: timed_id3 (ID3  / 0x20334449)\n",
      "    Metadata:\n",
      "      variant_bitrate : 0\n",
      "Output #0, matroska, to 'streamlink/europe.mkv':\n",
      "  Metadata:\n",
      "    encoder         : Lavf59.16.100\n",
      "  Stream #0:0: Video: h264 (Main) (H264 / 0x34363248), yuv420p(tv, bt709), 640x360 [SAR 1:1 DAR 16:9], q=2-31, 25 fps, 25 tbr, 1k tbn\n",
      "    Metadata:\n",
      "      variant_bitrate : 0\n",
      "  Stream #0:1: Audio: aac (LC) ([255][0][0][0] / 0x00FF), 48000 Hz, stereo, fltp\n",
      "    Metadata:\n",
      "      variant_bitrate : 0\n",
      "Stream mapping:\n",
      "  Stream #0:0 -> #0:0 (copy)\n",
      "  Stream #0:1 -> #0:1 (copy)\n",
      "Press [q] to stop, [?] for help\n",
      "[https @ 0x7f8eae02aa00] Opening 'https://d4xunn272arip.cloudfront.net/hls/c9n_360_290188.ts' for reading\n",
      "frame=  749 fps=432 q=-1.0 size=    3840kB time=00:00:29.88 bitrate=1052.8kbits/s speed=17.2x    \r"
     ]
    },
    {
     "name": "stdout",
     "output_type": "stream",
     "text": [
      "ending capture\n"
     ]
    }
   ],
   "source": [
    "import streamlink\n",
    "\n",
    "url = \"https://www.bloomberg.com/live/europe\"\n",
    "\n",
    "out_dir = \"streamlink\"\n",
    "\n",
    "if not os.path.exists(out_dir):\n",
    "    \n",
    "    os.makedirs(out_dir)\n",
    "\n",
    "try:\n",
    "    \n",
    "    stream_url = streamlink.streams(url)['best'].url\n",
    "    \n",
    "except:\n",
    "    \n",
    "    print(\"couldn't find stream at {}\".format(url))\n",
    "\n",
    "print(\"found stream at {}\".format(stream_url))\n",
    "\n",
    "streamer = url.split(\"/\")[-1]\n",
    "\n",
    "out_path = os.path.join(out_dir, streamer)\n",
    "\n",
    "process = (\n",
    "    ffmpeg\n",
    "    .input(stream_url)\n",
    "    .output('{}.mkv'.format(out_path), codec=\"copy\")\n",
    "    .overwrite_output()\n",
    "    .run_async(pipe_stdout=True)\n",
    ")\n",
    "\n",
    "print(\"starting capture\")\n",
    "time.sleep(10)\n",
    "print(\"ending capture\")\n",
    "process.stdout.close()\n",
    "process.kill()"
   ]
  },
  {
   "cell_type": "markdown",
   "id": "4558789f-9873-47a8-9d24-a889fd260cf3",
   "metadata": {},
   "source": [
    "You can check all streamlink plugins here: https://streamlink.github.io/plugins.html#plugins"
   ]
  },
  {
   "cell_type": "code",
   "execution_count": 38,
   "id": "5510dcc5-31de-4650-a057-8eeafca2a715",
   "metadata": {},
   "outputs": [
    {
     "name": "stdout",
     "output_type": "stream",
     "text": [
      "Collecting opencv-python\n",
      "  Using cached opencv_python-4.6.0.66-cp36-abi3-macosx_10_15_x86_64.whl (46.4 MB)\n",
      "Requirement already satisfied: numpy>=1.17.3 in /Users/c/anaconda3/envs/bca/lib/python3.9/site-packages (from opencv-python) (1.23.4)\n",
      "Installing collected packages: opencv-python\n",
      "Successfully installed opencv-python-4.6.0.66\n"
     ]
    }
   ],
   "source": [
    "!pip install opencv-python"
   ]
  },
  {
   "cell_type": "code",
   "execution_count": null,
   "id": "4e203674-ca5d-47b9-9f2d-efb463b3f6a4",
   "metadata": {},
   "outputs": [
    {
     "ename": "ModuleNotFoundError",
     "evalue": "No module named 'cv2'",
     "output_type": "error",
     "traceback": [
      "\u001b[0;31m---------------------------------------------------------------------------\u001b[0m",
      "\u001b[0;31mModuleNotFoundError\u001b[0m                       Traceback (most recent call last)",
      "Cell \u001b[0;32mIn [37], line 1\u001b[0m\n\u001b[0;32m----> 1\u001b[0m \u001b[38;5;28;01mimport\u001b[39;00m \u001b[38;5;21;01mcv2\u001b[39;00m\n\u001b[1;32m      2\u001b[0m \u001b[38;5;28;01mimport\u001b[39;00m \u001b[38;5;21;01mnumpy\u001b[39;00m \u001b[38;5;28;01mas\u001b[39;00m \u001b[38;5;21;01mnp\u001b[39;00m\n\u001b[1;32m      4\u001b[0m \u001b[38;5;66;03m# Create a VideoCapture object\u001b[39;00m\n",
      "\u001b[0;31mModuleNotFoundError\u001b[0m: No module named 'cv2'"
     ]
    }
   ],
   "source": [
    "import cv2\n",
    "import numpy as np\n",
    " \n",
    "# Create a VideoCapture object\n",
    "cap = cv2.VideoCapture(0)\n",
    " \n",
    "# Check if camera opened successfully\n",
    "if (cap.isOpened() == False): \n",
    "    print(\"Unable to read camera feed\")\n",
    " \n",
    "# Default resolutions of the frame are obtained.The default resolutions are system dependent.\n",
    "# We convert the resolutions from float to integer.\n",
    "frame_width = int(cap.get(3))\n",
    "frame_height = int(cap.get(4))\n",
    " \n",
    "# Define the codec and create VideoWriter object.The output is stored in 'outpy.avi' file.\n",
    "out = cv2.VideoWriter('outpy.avi',cv2.VideoWriter_fourcc('M','J','P','G'), 10, (frame_width,frame_height))\n",
    " \n",
    "while(True):\n",
    "  ret, frame = cap.read()\n",
    " \n",
    "  if ret == True: \n",
    "     \n",
    "    # Write the frame into the file 'output.avi'\n",
    "    out.write(frame)\n",
    " \n",
    "    # Display the resulting frame    \n",
    "    cv2.imshow('frame',frame)\n",
    " \n",
    "    # Press Q on keyboard to stop recording\n",
    "    if cv2.waitKey(1) & 0xFF == ord('q'):\n",
    "      break\n",
    " \n",
    "  # Break the loop\n",
    "  else:\n",
    "    break \n",
    " \n",
    "# When everything done, release the video capture and video write objects\n",
    "cap.release()\n",
    "out.release()\n",
    " \n",
    "# Closes all the frames\n",
    "cv2.destroyAllWindows()"
   ]
  },
  {
   "cell_type": "code",
   "execution_count": null,
   "id": "47b25208-1bca-4120-bf1b-24dfc82136a1",
   "metadata": {},
   "outputs": [],
   "source": []
  },
  {
   "cell_type": "code",
   "execution_count": 1,
   "id": "eb9027a3-5938-489a-a6e3-25da44e93ca8",
   "metadata": {
    "tags": []
   },
   "outputs": [
    {
     "name": "stdout",
     "output_type": "stream",
     "text": [
      "{'hyperspace': {'constraints': [],\n",
      "                'design': [['windFarm.windparkSize.k', 'continuous', [0, 0, 5]],\n",
      "                           ['hydroPlant.primaryControlMax',\n",
      "                            'continuous',\n",
      "                            [100, 300]]],\n",
      "                'kpis': ['frequency.y', 'city.load.p[2]']},\n",
      " 'lhc_size': 10,\n",
      " 'number_of_runs': 10}\n",
      "{'hyperspace': {'constraints': [],\n",
      "                'design': [['windFarm.windparkSize.k', 'continuous', [0, 0, 5]],\n",
      "                           ['hydroPlant.primaryControlMax',\n",
      "                            'continuous',\n",
      "                            [100, 300]]],\n",
      "                'kpis': ['frequency.y', 'city.load.p[2]']},\n",
      " 'lhc_size': 10,\n",
      " 'number_of_runs': 10}\n"
     ]
    }
   ],
   "source": [
    "import pprint\n",
    "\n",
    "json_dict = {\"hyperspace\": {\"constraints\": [], \"design\": [[\"windFarm.windparkSize.k\", \"continuous\", [0, 0, 5]], [\"hydroPlant.primaryControlMax\", \"continuous\", [100, 300]]], \"kpis\": [\"frequency.y\", \"city.load.p[2]\"]}, \"lhc_size\": 10, \"number_of_runs\": 10}\n",
    "\n",
    "formatted_json_str = pprint.pformat(json_dict)\n",
    "print(formatted_json_str)\n",
    "pprint.pprint(json_dict)"
   ]
  }
 ],
 "metadata": {
  "kernelspec": {
   "display_name": "Python 3 (ipykernel)",
   "language": "python",
   "name": "python3"
  },
  "language_info": {
   "codemirror_mode": {
    "name": "ipython",
    "version": 3
   },
   "file_extension": ".py",
   "mimetype": "text/x-python",
   "name": "python",
   "nbconvert_exporter": "python",
   "pygments_lexer": "ipython3",
   "version": "3.9.13"
  }
 },
 "nbformat": 4,
 "nbformat_minor": 5
}
