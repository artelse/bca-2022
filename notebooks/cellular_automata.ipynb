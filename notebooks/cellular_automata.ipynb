{
 "cells": [
  {
   "cell_type": "markdown",
   "id": "58231e64-6df7-4476-91be-0c1c51f62f07",
   "metadata": {},
   "source": [
    "# Cellular Automata"
   ]
  },
  {
   "cell_type": "markdown",
   "id": "18108b16-e638-44d6-8e2b-95ce94967106",
   "metadata": {},
   "source": [
    "https://mathworld.wolfram.com/ElementaryCellularAutomaton.html"
   ]
  },
  {
   "cell_type": "code",
   "execution_count": null,
   "id": "c909202b-3129-4468-aeb1-ae50a2e3d1d1",
   "metadata": {},
   "outputs": [],
   "source": [
    "import numpy as np\n",
    "import matplotlib.pyplot as plt\n",
    "\n",
    "def make_table(rule):\n",
    "    \"\"\"Make the table for a given CA rule.\n",
    "    \n",
    "    rule: int 0-255\n",
    "    \n",
    "    returns: array of 8 0s and 1s\n",
    "    \"\"\"\n",
    "    rule = np.array([rule], dtype=np.uint8)\n",
    "    table = np.unpackbits(rule)[::-1]\n",
    "    return table\n",
    "\n",
    "# Cell1D object - a 1-D cellular automaton\n",
    "\n",
    "class Cell1D:\n",
    "    # Initialize the CA\n",
    "    # rule: int, n: number of rows, m: number of columns\n",
    "    \n",
    "    # Attributes:\n",
    "    # table:  rule dictionary that maps from triple to next state\n",
    "    # array:  the numpy array that contains the data\n",
    "    # next:   the index of the next empty row\n",
    "    \n",
    "    def __init__(self, rule, n, m=None):\n",
    "        self.table = make_table(rule)\n",
    "        self.n = n\n",
    "        self.m = 2*n + 1 if m is None else m\n",
    "\n",
    "        self.array = np.zeros((n, self.m), dtype=np.int8)\n",
    "        self.next = 0\n",
    "\n",
    "    # start with - \n",
    "\n",
    "    # one cell in the middle of the top row\n",
    "    def start_single(self):\n",
    "        self.array[0, self.m//2] = 1\n",
    "        self.next += 1\n",
    "\n",
    "    # random values in the top row\n",
    "    def start_random(self):\n",
    "        self.array[0] = np.random.random(self.m).round()\n",
    "        self.next += 1\n",
    "\n",
    "    # values from a string of 1s and 0s\n",
    "    # TODO: Check string length\n",
    "    def start_string(self, s):\n",
    "        self.array[0] = np.array([int(x) for x in s])\n",
    "        self.next += 1\n",
    "\n",
    "\n",
    "    # execute the given number of time steps (iterations)\n",
    "    def loop(self, steps=1):\n",
    "        for i in range(steps):\n",
    "            self.step()\n",
    "\n",
    "    # execute one time step by computing the next row of the array\n",
    "    def step(self):\n",
    "        a = self.array\n",
    "        i = self.next\n",
    "        window = [4, 2, 1]\n",
    "        c = np.correlate(a[i-1], window, mode='same')\n",
    "        a[i] = self.table[c]\n",
    "        self.next += 1\n",
    "\n",
    "    # draw the CA using pyplot.imshow\n",
    "    # start: index of the first column to be shown\n",
    "    # end: index of the last column to be shown\n",
    "    def draw(self, start=0, end=None):\n",
    "        a = self.array[:, start:end]\n",
    "        plt.figure(figsize=(16,16))\n",
    "        plt.imshow(a, cmap='Blues', alpha=0.7)\n",
    "        # turn off axis tick marks\n",
    "        plt.xticks([])\n",
    "        plt.yticks([])\n",
    "\n",
    "\n",
    "# make and draw a CA\n",
    "\n",
    "# draw a 1D CA with a given rule    \n",
    "# rule: int rule number\n",
    "# n: number of rows\n",
    "def draw_ca(rule, n=32):\n",
    "    ca = Cell1D(rule, n)\n",
    "    # ca.start_single()\n",
    "    ca.start_random()\n",
    "    ca.loop(n-1)\n",
    "    ca.draw()"
   ]
  },
  {
   "cell_type": "code",
   "execution_count": null,
   "id": "7b27c931-1e83-4eca-9a7b-0610a3601af4",
   "metadata": {},
   "outputs": [],
   "source": [
    "# run a Rule 50 CA for 10 steps\n",
    "draw_ca(rule=50, n=10)"
   ]
  },
  {
   "cell_type": "code",
   "execution_count": null,
   "id": "4a1ac912-bdd2-461d-83d6-eb3972a5fb18",
   "metadata": {},
   "outputs": [],
   "source": [
    "draw_ca(rule=150, n=100)"
   ]
  },
  {
   "cell_type": "code",
   "execution_count": null,
   "id": "1c076586-74b7-4781-891a-9fb20766c33c",
   "metadata": {},
   "outputs": [],
   "source": [
    "rule = 18\n",
    "iterations = 200\n",
    "# recursive structure\n",
    "draw_ca(rule, iterations)"
   ]
  },
  {
   "cell_type": "code",
   "execution_count": null,
   "id": "de1728d8-bf45-4487-b096-fb0d3947a807",
   "metadata": {},
   "outputs": [],
   "source": [
    "rule = 18\n",
    "iterations = 256\n",
    "# recursive structure\n",
    "draw_ca(rule, iterations)"
   ]
  },
  {
   "cell_type": "code",
   "execution_count": null,
   "id": "98b49aa7-dfb2-497d-95e5-bf77718ce739",
   "metadata": {},
   "outputs": [],
   "source": [
    "# Rule 30 generates a sequence of bits that is indistinguishable from random:\n",
    "rule = 30\n",
    "iterations = 256\n",
    "draw_ca(rule, iterations)"
   ]
  },
  {
   "cell_type": "code",
   "execution_count": null,
   "id": "a7ee0e5b-9f54-4c54-b711-50b88c21c12e",
   "metadata": {},
   "outputs": [],
   "source": [
    "draw_ca(rule=110, n=1024)"
   ]
  }
 ],
 "metadata": {
  "kernelspec": {
   "display_name": "Python 3 (ipykernel)",
   "language": "python",
   "name": "python3"
  },
  "language_info": {
   "codemirror_mode": {
    "name": "ipython",
    "version": 3
   },
   "file_extension": ".py",
   "mimetype": "text/x-python",
   "name": "python",
   "nbconvert_exporter": "python",
   "pygments_lexer": "ipython3",
   "version": "3.9.13"
  }
 },
 "nbformat": 4,
 "nbformat_minor": 5
}
