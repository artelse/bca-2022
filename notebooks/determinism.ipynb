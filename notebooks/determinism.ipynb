{
 "cells": [
  {
   "cell_type": "code",
   "execution_count": null,
   "id": "7b57cdc4-6817-4927-b4ff-7e60a7235482",
   "metadata": {},
   "outputs": [],
   "source": [
    "import numpy as np\n",
    "import matplotlib.pyplot as plt"
   ]
  },
  {
   "cell_type": "code",
   "execution_count": null,
   "id": "dd5d0161-82c7-4a89-b1dd-f12e38cb7518",
   "metadata": {},
   "outputs": [],
   "source": [
    "# Simulation parameters\n",
    "#\n",
    "# Control parameter of the map: A period-3 cycle\n",
    "r = 3.83\n",
    "# Set up an array of iterates and set the initital condition\n",
    "x = [0.1]\n",
    "# The number of iterations to generate\n",
    "N = 100\n",
    "\n",
    "# The main loop that generates iterates and stores them\n",
    "for n in range(0, N):\n",
    "    # at each iteration calculate x_n+1\n",
    "    # and append to list x\n",
    "    x.append(r*x[n]*(1.-x[n]))\n",
    "    \n",
    "\n",
    "plt.plot(np.arange(0, N+1), x)\n",
    "plt.show()"
   ]
  },
  {
   "cell_type": "code",
   "execution_count": null,
   "id": "e9a572b2-4f96-4657-bfc4-b08a9bfcbe7e",
   "metadata": {},
   "outputs": [],
   "source": []
  },
  {
   "cell_type": "code",
   "execution_count": null,
   "id": "7ca7d1d6-d8fc-44cf-8a87-a97439ec9761",
   "metadata": {},
   "outputs": [],
   "source": []
  },
  {
   "cell_type": "markdown",
   "id": "7358a7ae-8d32-47ff-b48f-9eb2d8cab9ea",
   "metadata": {
    "tags": []
   },
   "source": [
    "#### Advanced example: Turing patterns (Reaction diffusion)"
   ]
  },
  {
   "cell_type": "code",
   "execution_count": null,
   "id": "32926cce-eaf2-4bf1-9853-399e3b3679e5",
   "metadata": {},
   "outputs": [],
   "source": [
    "a = 2.8e-4\n",
    "b = 5e-3\n",
    "tau = 0.1\n",
    "k = -0.005\n",
    "\n",
    "size = 100  # size of the 2D grid\n",
    "dx = 2.0 / size  # space step\n",
    "\n",
    "T = 15.0  # total time\n",
    "dt = 0.001  # time step\n",
    "n = int(T / dt)  # number of iterations\n",
    "\n",
    "# generate some random noise as initial condition\n",
    "U = rng.random((size, size))  # concentration of substance favoring pigmentation\n",
    "V = rng.random((size, size))  # reacting substance that impedes pigmentation "
   ]
  },
  {
   "cell_type": "code",
   "execution_count": null,
   "id": "ce2d82a9-7e0f-48aa-89a9-4cf56773fd17",
   "metadata": {},
   "outputs": [],
   "source": [
    "def laplacian(Z):\n",
    "    Ztop = Z[0:-2, 1:-1]\n",
    "    Zleft = Z[1:-1, 0:-2]\n",
    "    Zbottom = Z[2:, 1:-1]\n",
    "    Zright = Z[1:-1, 2:]\n",
    "    Zcenter = Z[1:-1, 1:-1]\n",
    "    return (Ztop + Zleft + Zbottom + Zright -\n",
    "            4 * Zcenter) / dx**2\n",
    "\n",
    "def show_patterns(U, ax=None):\n",
    "    ax.imshow(U, cmap=plt.cm.copper,\n",
    "              interpolation='bilinear',\n",
    "              extent=[-1, 1, -1, 1])\n",
    "    ax.set_axis_off()"
   ]
  },
  {
   "cell_type": "code",
   "execution_count": null,
   "id": "1be2a2ad-2fa6-42f7-8d91-7210de255b83",
   "metadata": {},
   "outputs": [],
   "source": [
    "fig, axes = plt.subplots(3, 3, figsize=(8, 8))\n",
    "step_plot = n // 9\n",
    "# We simulate the PDE with the finite difference\n",
    "# method.\n",
    "for i in range(n):\n",
    "    # We compute the Laplacian of u and v.\n",
    "    deltaU = laplacian(U)\n",
    "    deltaV = laplacian(V)\n",
    "    # We take the values of u and v inside the grid.\n",
    "    Uc = U[1:-1, 1:-1]\n",
    "    Vc = V[1:-1, 1:-1]\n",
    "    # We update the variables.\n",
    "    U[1:-1, 1:-1], V[1:-1, 1:-1] = \\\n",
    "        Uc + dt * (a * deltaU + Uc - Uc**3 - Vc + k),\\\n",
    "        Vc + dt * (b * deltaV + Uc - Vc) / tau\n",
    "    # Neumann conditions: derivatives at the edges\n",
    "    # are null.\n",
    "    for Z in (U, V):\n",
    "        Z[0, :] = Z[1, :]\n",
    "        Z[-1, :] = Z[-2, :]\n",
    "        Z[:, 0] = Z[:, 1]\n",
    "        Z[:, -1] = Z[:, -2]\n",
    "\n",
    "    # We plot the state of the system at\n",
    "    # 9 different times.\n",
    "    if i % step_plot == 0 and i < 9 * step_plot:\n",
    "        ax = axes.flat[i // step_plot]\n",
    "        show_patterns(U, ax=ax)\n",
    "        ax.set_title(f'$t={i * dt:.2f}$')"
   ]
  }
 ],
 "metadata": {
  "kernelspec": {
   "display_name": "Python 3 (ipykernel)",
   "language": "python",
   "name": "python3"
  },
  "language_info": {
   "codemirror_mode": {
    "name": "ipython",
    "version": 3
   },
   "file_extension": ".py",
   "mimetype": "text/x-python",
   "name": "python",
   "nbconvert_exporter": "python",
   "pygments_lexer": "ipython3",
   "version": "3.9.13"
  }
 },
 "nbformat": 4,
 "nbformat_minor": 5
}
