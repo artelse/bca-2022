{
 "cells": [
  {
   "cell_type": "markdown",
   "id": "ef4051c6-7fd8-45e5-9dbb-ab22822ab74c",
   "metadata": {},
   "source": [
    "# Determinism"
   ]
  },
  {
   "cell_type": "markdown",
   "id": "dd2991ef-6f95-4fce-bfd2-58f0ac2702be",
   "metadata": {},
   "source": [
    "Even a very complicated phenomina (at least apparently very complicated one) can be described by very simple rule"
   ]
  },
  {
   "cell_type": "markdown",
   "id": "bb7d1c63-6ec6-4a09-a694-b56c5c6f9b9a",
   "metadata": {},
   "source": [
    "Picbreeder: https://nbenko1.github.io/\n",
    "A collaborative application based on evolutionary art."
   ]
  },
  {
   "cell_type": "markdown",
   "id": "c1d47796-1429-4f9b-8257-b14802840df9",
   "metadata": {},
   "source": [
    "Harm Van den Dorpel: https://mutant.garden/"
   ]
  },
  {
   "cell_type": "markdown",
   "id": "4f10bb5e-2a5e-45bd-a9cb-919d6d3c319b",
   "metadata": {},
   "source": [
    "Ian Cheng, simulations: https://www.moma.org/calendar/exhibitions/3656"
   ]
  },
  {
   "cell_type": "markdown",
   "id": "d2a88d0f-bcd8-4d83-9018-16dd7a00b858",
   "metadata": {},
   "source": [
    "Conway's game of life: https://playgameoflife.com/lexicon/2-glider_mess"
   ]
  },
  {
   "cell_type": "markdown",
   "id": "395e6fb6-9ed0-43c7-82c1-17706c465292",
   "metadata": {},
   "source": [
    "https://www.wikiwand.com/en/Self-organization"
   ]
  },
  {
   "cell_type": "markdown",
   "id": "7358a7ae-8d32-47ff-b48f-9eb2d8cab9ea",
   "metadata": {
    "tags": []
   },
   "source": [
    "#### Advanced example: Turing patterns (Reaction diffusion)"
   ]
  },
  {
   "cell_type": "code",
   "execution_count": null,
   "id": "40478bda-f8ac-44a5-9544-e0a7d5ee8d8c",
   "metadata": {},
   "outputs": [],
   "source": [
    "# create a random number generator\n",
    "rng = np.random.default_rng()"
   ]
  },
  {
   "cell_type": "code",
   "execution_count": null,
   "id": "32926cce-eaf2-4bf1-9853-399e3b3679e5",
   "metadata": {},
   "outputs": [],
   "source": [
    "a = 2.8e-4\n",
    "b = 5e-3\n",
    "tau = 0.1\n",
    "k = -0.005\n",
    "\n",
    "size = 100  # size of the 2D grid\n",
    "dx = 2.0 / size  # space step\n",
    "\n",
    "T = 15.0  # total time\n",
    "dt = 0.001  # time step\n",
    "n = int(T / dt)  # number of iterations\n",
    "\n",
    "# generate some random noise as initial condition\n",
    "U = rng.random((size, size))  # concentration of substance favoring pigmentation\n",
    "V = rng.random((size, size))  # reacting substance that impedes pigmentation "
   ]
  },
  {
   "cell_type": "code",
   "execution_count": null,
   "id": "ce2d82a9-7e0f-48aa-89a9-4cf56773fd17",
   "metadata": {},
   "outputs": [],
   "source": [
    "def laplacian(Z):\n",
    "    Ztop = Z[0:-2, 1:-1]\n",
    "    Zleft = Z[1:-1, 0:-2]\n",
    "    Zbottom = Z[2:, 1:-1]\n",
    "    Zright = Z[1:-1, 2:]\n",
    "    Zcenter = Z[1:-1, 1:-1]\n",
    "    return (Ztop + Zleft + Zbottom + Zright -\n",
    "            4 * Zcenter) / dx**2\n",
    "\n",
    "def show_patterns(U, ax=None):\n",
    "    ax.imshow(U, cmap=plt.cm.copper,\n",
    "              interpolation='bilinear',\n",
    "              extent=[-1, 1, -1, 1])\n",
    "    ax.set_axis_off()"
   ]
  },
  {
   "cell_type": "code",
   "execution_count": null,
   "id": "1be2a2ad-2fa6-42f7-8d91-7210de255b83",
   "metadata": {},
   "outputs": [],
   "source": [
    "fig, axes = plt.subplots(3, 3, figsize=(8, 8))\n",
    "step_plot = n // 9\n",
    "# We simulate the PDE with the finite difference\n",
    "# method.\n",
    "for i in range(n):\n",
    "    # We compute the Laplacian of u and v.\n",
    "    deltaU = laplacian(U)\n",
    "    deltaV = laplacian(V)\n",
    "    # We take the values of u and v inside the grid.\n",
    "    Uc = U[1:-1, 1:-1]\n",
    "    Vc = V[1:-1, 1:-1]\n",
    "    # We update the variables.\n",
    "    U[1:-1, 1:-1], V[1:-1, 1:-1] = \\\n",
    "        Uc + dt * (a * deltaU + Uc - Uc**3 - Vc + k),\\\n",
    "        Vc + dt * (b * deltaV + Uc - Vc) / tau\n",
    "    # Neumann conditions: derivatives at the edges\n",
    "    # are null.\n",
    "    for Z in (U, V):\n",
    "        Z[0, :] = Z[1, :]\n",
    "        Z[-1, :] = Z[-2, :]\n",
    "        Z[:, 0] = Z[:, 1]\n",
    "        Z[:, -1] = Z[:, -2]\n",
    "\n",
    "    # We plot the state of the system at\n",
    "    # 9 different times.\n",
    "    if i % step_plot == 0 and i < 9 * step_plot:\n",
    "        ax = axes.flat[i // step_plot]\n",
    "        show_patterns(U, ax=ax)\n",
    "        ax.set_title(f'$t={i * dt:.2f}$')"
   ]
  },
  {
   "cell_type": "markdown",
   "id": "a790d5bc-77c6-459d-a4e5-9ba5c75a52f6",
   "metadata": {},
   "source": [
    "A very thorough notebook about turing patterns:\n",
    "https://github.com/ijmbarr/turing-patterns/blob/master/turing-patterns.ipynb"
   ]
  },
  {
   "cell_type": "markdown",
   "id": "5cc79272-b6fe-422b-a583-a594ab904455",
   "metadata": {},
   "source": [
    "Computers, Pattern, Chaos and Beauty - Graphics from an Unseen World"
   ]
  },
  {
   "cell_type": "markdown",
   "id": "f91654d6-e074-4d69-9595-f417b422ca9f",
   "metadata": {},
   "source": [
    "#### Logistic map"
   ]
  },
  {
   "cell_type": "markdown",
   "id": "c0ad9fa2-d6dd-4011-8b03-79e91132419b",
   "metadata": {},
   "source": [
    "The logistic map is often cited as an archetypal example of how complex, chaotic behaviour can arise from very simple non-linear dynamical equations.\n",
    "\n",
    "https://en.wikipedia.org/wiki/Logistic_map"
   ]
  },
  {
   "cell_type": "code",
   "execution_count": null,
   "id": "7b57cdc4-6817-4927-b4ff-7e60a7235482",
   "metadata": {},
   "outputs": [],
   "source": [
    "import numpy as np\n",
    "import matplotlib.pyplot as plt"
   ]
  },
  {
   "cell_type": "code",
   "execution_count": null,
   "id": "dd5d0161-82c7-4a89-b1dd-f12e38cb7518",
   "metadata": {},
   "outputs": [],
   "source": [
    "# Simulation parameters\n",
    "#\n",
    "# Control parameter of the map, the rate\n",
    "r =  2.0 #3.5 # 3.2, 2.5, 3.8\n",
    "# Set up an array of iterates and set the initital condition\n",
    "x = [0.1]\n",
    "# The number of iterations to generate\n",
    "N = 100\n",
    "\n",
    "# The main loop that generates iterates and stores them\n",
    "for n in range(0, N):\n",
    "    # at each iteration calculate x_n+1\n",
    "    # and append to list x\n",
    "    x.append(r * x[n] * (1.0 - x[n]))\n",
    "    \n",
    "\n",
    "plt.plot(np.arange(0, N+1), x)\n",
    "plt.show()"
   ]
  },
  {
   "cell_type": "markdown",
   "id": "6bd00bf8-1cf7-4f85-b313-548b58b756a0",
   "metadata": {},
   "source": [
    "#### Plotting the bifurcation diagram of a chaotic dynamical system"
   ]
  },
  {
   "cell_type": "code",
   "execution_count": null,
   "id": "775b6763-0af0-46b2-88cf-7b7044d0192c",
   "metadata": {},
   "outputs": [],
   "source": [
    "def logistic(r, x):\n",
    "    return r * x * (1 - x)"
   ]
  },
  {
   "cell_type": "code",
   "execution_count": null,
   "id": "1664b584-5173-461b-ba0d-1b5767495554",
   "metadata": {},
   "outputs": [],
   "source": [
    "n = 10000\n",
    "r = np.linspace(2.5, 4.0, n)\n",
    "iterations = 1000\n",
    "last = 100\n",
    "\n",
    "x = 1e-5 * np.ones(n)\n",
    "\n",
    "fig, ax = plt.subplots(figsize=(8, 8))\n",
    "\n",
    "for i in range(iterations):\n",
    "    x = logistic(r, x)\n",
    "    # We display the bifurcation diagram.\n",
    "    if i >= (iterations - last):\n",
    "        ax.plot(r, x, ',k', alpha=.25)"
   ]
  }
 ],
 "metadata": {
  "kernelspec": {
   "display_name": "Python 3 (ipykernel)",
   "language": "python",
   "name": "python3"
  },
  "language_info": {
   "codemirror_mode": {
    "name": "ipython",
    "version": 3
   },
   "file_extension": ".py",
   "mimetype": "text/x-python",
   "name": "python",
   "nbconvert_exporter": "python",
   "pygments_lexer": "ipython3",
   "version": "3.9.13"
  }
 },
 "nbformat": 4,
 "nbformat_minor": 5
}
