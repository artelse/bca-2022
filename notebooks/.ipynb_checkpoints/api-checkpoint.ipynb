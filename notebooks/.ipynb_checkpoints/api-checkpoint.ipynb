{
 "cells": [
  {
   "cell_type": "code",
   "execution_count": 8,
   "id": "eb91644c-fa5a-4cf1-9fb7-825b8eb61c32",
   "metadata": {},
   "outputs": [
    {
     "name": "stdout",
     "output_type": "stream",
     "text": [
      "Requirement already satisfied: wikipedia in /home/carl69/anaconda3/envs/jupyter/lib/python3.9/site-packages (1.4.0)\n",
      "Requirement already satisfied: beautifulsoup4 in /home/carl69/anaconda3/envs/jupyter/lib/python3.9/site-packages (from wikipedia) (4.11.1)\n",
      "Requirement already satisfied: requests<3.0.0,>=2.0.0 in /home/carl69/anaconda3/envs/jupyter/lib/python3.9/site-packages (from wikipedia) (2.28.1)\n",
      "Requirement already satisfied: urllib3<1.27,>=1.21.1 in /home/carl69/anaconda3/envs/jupyter/lib/python3.9/site-packages (from requests<3.0.0,>=2.0.0->wikipedia) (1.26.12)\n",
      "Requirement already satisfied: charset-normalizer<3,>=2 in /home/carl69/anaconda3/envs/jupyter/lib/python3.9/site-packages (from requests<3.0.0,>=2.0.0->wikipedia) (2.1.1)\n",
      "Requirement already satisfied: idna<4,>=2.5 in /home/carl69/anaconda3/envs/jupyter/lib/python3.9/site-packages (from requests<3.0.0,>=2.0.0->wikipedia) (3.4)\n",
      "Requirement already satisfied: certifi>=2017.4.17 in /home/carl69/anaconda3/envs/jupyter/lib/python3.9/site-packages (from requests<3.0.0,>=2.0.0->wikipedia) (2022.9.24)\n",
      "Requirement already satisfied: soupsieve>1.2 in /home/carl69/anaconda3/envs/jupyter/lib/python3.9/site-packages (from beautifulsoup4->wikipedia) (2.3.2.post1)\n"
     ]
    }
   ],
   "source": [
    "!pip install wikipedia"
   ]
  },
  {
   "cell_type": "code",
   "execution_count": 9,
   "id": "4d841271-f16c-4d9f-a927-6718763b3f24",
   "metadata": {},
   "outputs": [
    {
     "name": "stdout",
     "output_type": "stream",
     "text": [
      "['WTF', '.wtf', 'WTF?!', 'WTF with Marc Maron', 'UTF-8', 'List of WTF with Marc Maron episodes', 'Marc Maron', \"Tabby's Star\", 'Fuck', 'WTF! (film)']\n",
      "In common usage, randomness is the apparent or actual lack of pattern or predictability in events. A random sequence of events, symbols or steps often has no order and does not follow an intelligible pattern or combination. Individual random events are, by definition, unpredictable, but if the probability distribution is known, the frequency of different outcomes over repeated events (or \"trials\") is predictable. For example, when throwing two dice, the outcome of any particular roll is unpredictable, but a sum of 7 will tend to occur twice as often as 4. In this view, randomness is not haphazardness; it is a measure of uncertainty of an outcome. Randomness applies to concepts of chance, probability, and information entropy.\n",
      "The fields of mathematics, probability, and statistics use formal definitions of randomness. In statistics, a random variable is an assignment of a numerical value to each possible outcome of an event space. This association facilitates the identification and the calculation of probabilities of the events. Random variables can appear in random sequences. A random process is a sequence of random variables whose outcomes do not follow a deterministic pattern, but follow an evolution described by probability distributions. These and other constructs are extremely useful in probability theory and the various applications of randomness.\n",
      "Randomness is most often used in statistics to signify well-defined statistical properties. Monte Carlo methods, which rely on random input (such as from random number generators or pseudorandom number generators), are important techniques in science, particularly in the field of computational science. By analogy, quasi-Monte Carlo methods use quasi-random number generators.\n",
      "Random selection, when narrowly associated with a simple random sample, is a method of selecting items (often called units) from a population where the probability of choosing a specific item is the proportion of those items in the population. For example, with a bowl containing just 10 red marbles and 90 blue marbles, a random selection mechanism would choose a red marble with probability 1/10. Note that a random selection mechanism that selected 10 marbles from this bowl would not necessarily result in 1 red and 9 blue. In situations where a population consists of items that are distinguishable, a random selection mechanism requires equal probabilities for any item to be chosen. That is, if the selection process is such that each member of a population, say research subjects, has the same probability of being chosen, then we can say the selection process is random.According to Ramsey theory, pure randomness is impossible, especially for large structures. Mathematician Theodore Motzkin suggested that \"while disorder is more probable in general, complete disorder is impossible\". Misunderstanding this can lead to numerous conspiracy theories. Cristian S. Calude stated that \"given the impossibility of true randomness, the effort is directed towards studying degrees of randomness\". It can be proven that there is infinite hierarchy (in terms of quality or strength) of forms of randomness.\n",
      "['Nokanan Dam', 'USS Plymouth (1844)']\n"
     ]
    }
   ],
   "source": [
    "import wikipedia\n",
    "\n",
    "'''\n",
    "Install wikipedia first\n",
    "pip install wikipedia\n",
    "\n",
    "Check wikipedia API doc: \n",
    "https://wikipedia.readthedocs.io/en/latest/code.html#api\n",
    "'''\n",
    "\n",
    "\n",
    "# Search for something\n",
    "print(wikipedia.search(\"wtf\"))\n",
    "\n",
    "# Get a summary of page \n",
    "print(wikipedia.summary(\"random\"))\n",
    "\n",
    "# Get a number of random topics\n",
    "print(wikipedia.random(pages=2))\n",
    "\n",
    "# Get a list of image urls of a page\n",
    "# print(wikipedia.page(\"random\").images)\n",
    "\n",
    "# Or just the first image\n",
    "# print(wikipedia.page(\"random\").images[0])\n",
    "\n",
    "# Perhaps use the download_image() function of above script to get the image?"
   ]
  },
  {
   "cell_type": "markdown",
   "id": "585ec67f-ead2-4751-adda-3b34ff54b37d",
   "metadata": {},
   "source": [
    "https://en.wikipedia.org/wiki/Wikipedia:Getting_to_Philosophy"
   ]
  },
  {
   "cell_type": "markdown",
   "id": "f0cef3a6-112b-45c1-a7da-3b26e4626c49",
   "metadata": {},
   "source": [
    "### Reddit API wrapper (PRAW)"
   ]
  },
  {
   "cell_type": "code",
   "execution_count": 10,
   "id": "3783a8eb-398e-4124-84c3-8833f3a7bc5f",
   "metadata": {},
   "outputs": [
    {
     "name": "stdout",
     "output_type": "stream",
     "text": [
      "Requirement already satisfied: praw in /home/carl69/anaconda3/envs/jupyter/lib/python3.9/site-packages (7.6.0)\n",
      "Requirement already satisfied: update-checker>=0.18 in /home/carl69/anaconda3/envs/jupyter/lib/python3.9/site-packages (from praw) (0.18.0)\n",
      "Requirement already satisfied: websocket-client>=0.54.0 in /home/carl69/anaconda3/envs/jupyter/lib/python3.9/site-packages (from praw) (1.4.1)\n",
      "Requirement already satisfied: prawcore<3,>=2.1 in /home/carl69/anaconda3/envs/jupyter/lib/python3.9/site-packages (from praw) (2.3.0)\n",
      "Requirement already satisfied: requests<3.0,>=2.6.0 in /home/carl69/anaconda3/envs/jupyter/lib/python3.9/site-packages (from prawcore<3,>=2.1->praw) (2.28.1)\n",
      "Requirement already satisfied: idna<4,>=2.5 in /home/carl69/anaconda3/envs/jupyter/lib/python3.9/site-packages (from requests<3.0,>=2.6.0->prawcore<3,>=2.1->praw) (3.4)\n",
      "Requirement already satisfied: certifi>=2017.4.17 in /home/carl69/anaconda3/envs/jupyter/lib/python3.9/site-packages (from requests<3.0,>=2.6.0->prawcore<3,>=2.1->praw) (2022.9.24)\n",
      "Requirement already satisfied: charset-normalizer<3,>=2 in /home/carl69/anaconda3/envs/jupyter/lib/python3.9/site-packages (from requests<3.0,>=2.6.0->prawcore<3,>=2.1->praw) (2.1.1)\n",
      "Requirement already satisfied: urllib3<1.27,>=1.21.1 in /home/carl69/anaconda3/envs/jupyter/lib/python3.9/site-packages (from requests<3.0,>=2.6.0->prawcore<3,>=2.1->praw) (1.26.12)\n"
     ]
    }
   ],
   "source": [
    "!pip install praw"
   ]
  },
  {
   "cell_type": "code",
   "execution_count": 11,
   "id": "3956b5a7-1ea6-4664-84f6-acfb2a9f9068",
   "metadata": {},
   "outputs": [],
   "source": [
    "import praw"
   ]
  },
  {
   "cell_type": "markdown",
   "id": "aa1b60ab-5f93-4bf9-aee5-ff9bc8f4fabb",
   "metadata": {},
   "source": [
    "### Youtube downloader (YT-DLP)"
   ]
  },
  {
   "cell_type": "code",
   "execution_count": 12,
   "id": "0d3c99e7-b0c4-41ea-b3ab-7bbc9ae1c424",
   "metadata": {},
   "outputs": [
    {
     "name": "stdout",
     "output_type": "stream",
     "text": [
      "Requirement already satisfied: yt-dlp in /home/carl69/anaconda3/envs/jupyter/lib/python3.9/site-packages (2022.10.4)\n",
      "Requirement already satisfied: pycryptodomex in /home/carl69/anaconda3/envs/jupyter/lib/python3.9/site-packages (from yt-dlp) (3.15.0)\n",
      "Requirement already satisfied: websockets in /home/carl69/anaconda3/envs/jupyter/lib/python3.9/site-packages (from yt-dlp) (10.4)\n",
      "Requirement already satisfied: certifi in /home/carl69/anaconda3/envs/jupyter/lib/python3.9/site-packages (from yt-dlp) (2022.9.24)\n",
      "Requirement already satisfied: mutagen in /home/carl69/anaconda3/envs/jupyter/lib/python3.9/site-packages (from yt-dlp) (1.46.0)\n",
      "Requirement already satisfied: brotli in /home/carl69/anaconda3/envs/jupyter/lib/python3.9/site-packages (from yt-dlp) (1.0.9)\n"
     ]
    }
   ],
   "source": [
    "!pip install yt-dlp"
   ]
  },
  {
   "cell_type": "code",
   "execution_count": 13,
   "id": "96cbe970-ded3-4352-a0bb-370386ae2000",
   "metadata": {},
   "outputs": [],
   "source": [
    "!mkdir yt_vids"
   ]
  },
  {
   "cell_type": "code",
   "execution_count": 14,
   "id": "42b78d7a-8d8a-48f5-b911-ddec64b311ab",
   "metadata": {},
   "outputs": [
    {
     "name": "stdout",
     "output_type": "stream",
     "text": [
      "[youtube] OYN8mZ5nCQY: Downloading webpage\n",
      "[youtube] OYN8mZ5nCQY: Downloading android player API JSON\n",
      "[youtube] OYN8mZ5nCQY: Downloading MPD manifest\n",
      "[youtube] OYN8mZ5nCQY: Downloading MPD manifest\n",
      "width: 1280, height: 720, duration: 105, title: William Latham - Mutator, id: OYN8mZ5nCQY\n",
      "[youtube] OYN8mZ5nCQY: Downloading webpage\n",
      "[youtube] OYN8mZ5nCQY: Downloading android player API JSON\n",
      "[youtube] OYN8mZ5nCQY: Downloading MPD manifest\n",
      "[youtube] OYN8mZ5nCQY: Downloading MPD manifest\n",
      "[info] OYN8mZ5nCQY: Downloading 1 format(s): 136+140\n",
      "[download] Destination: yt_vids/OYN8mZ5nCQY.f136.mp4\n",
      "[download] 100% of   23.64MiB in 00:00:04 at 5.80MiB/s   \n",
      "[download] Destination: yt_vids/OYN8mZ5nCQY.f140.m4a\n",
      "[download] 100% of    1.63MiB in 00:00:00 at 3.46MiB/s   \n",
      "[Merger] Merging formats into \"yt_vids/OYN8mZ5nCQY.mp4\"\n",
      "Deleting original file yt_vids/OYN8mZ5nCQY.f136.mp4 (pass -k to keep)\n",
      "Deleting original file yt_vids/OYN8mZ5nCQY.f140.m4a (pass -k to keep)\n"
     ]
    }
   ],
   "source": [
    "import yt_dlp\n",
    "\n",
    "downloads = 'yt_vids'\n",
    "\n",
    "ydl_opts = {\n",
    "    'outtmpl': downloads + '/%(id)s.%(ext)s',\n",
    "    'quiet': False,\n",
    "    'format_sort': ['res:1080', 'ext:mp4:m4a'],\n",
    "    'ignoreerrors': False\n",
    "}\n",
    "\n",
    "URL = 'https://www.youtube.com/watch?v=OYN8mZ5nCQY'\n",
    "\n",
    "with yt_dlp.YoutubeDL(ydl_opts) as ydl:\n",
    "    \n",
    "    info = ydl.extract_info(URL, download=False)\n",
    "    \n",
    "    if info:\n",
    "        width = info.get('width')\n",
    "        height = info.get('height')\n",
    "        duration = info.get('duration')\n",
    "        title = info.get('title')\n",
    "        id = info.get('id')\n",
    "        \n",
    "    \n",
    "    print(\"width: {}, height: {}, duration: {}, title: {}, id: {}\".format(width, height, duration, title, id))\n",
    "    ydl.download(URL)\n",
    "    "
   ]
  },
  {
   "cell_type": "code",
   "execution_count": 15,
   "id": "a47deabf-4090-42eb-bf6e-706e9fdbd9a2",
   "metadata": {},
   "outputs": [
    {
     "name": "stdout",
     "output_type": "stream",
     "text": [
      "OYN8mZ5nCQY\n"
     ]
    }
   ],
   "source": [
    "print(id)"
   ]
  },
  {
   "cell_type": "code",
   "execution_count": 16,
   "id": "09a6fc68-a648-4e2a-816f-a7dc679e3c95",
   "metadata": {},
   "outputs": [
    {
     "data": {
      "text/html": [
       "<video src=\"yt_vids/OYN8mZ5nCQY.mp4\" controls  >\n",
       "      Your browser does not support the <code>video</code> element.\n",
       "    </video>"
      ],
      "text/plain": [
       "<IPython.core.display.Video object>"
      ]
     },
     "execution_count": 16,
     "metadata": {},
     "output_type": "execute_result"
    }
   ],
   "source": [
    "from IPython.display import Video\n",
    "\n",
    "Video(\"yt_vids/OYN8mZ5nCQY.mp4\")  "
   ]
  },
  {
   "cell_type": "code",
   "execution_count": null,
   "id": "c3983d06-2cb2-4ba4-8690-4275ea883a31",
   "metadata": {},
   "outputs": [],
   "source": []
  }
 ],
 "metadata": {
  "kernelspec": {
   "display_name": "Python 3 (ipykernel)",
   "language": "python",
   "name": "python3"
  },
  "language_info": {
   "codemirror_mode": {
    "name": "ipython",
    "version": 3
   },
   "file_extension": ".py",
   "mimetype": "text/x-python",
   "name": "python",
   "nbconvert_exporter": "python",
   "pygments_lexer": "ipython3",
   "version": "3.9.13"
  }
 },
 "nbformat": 4,
 "nbformat_minor": 5
}
