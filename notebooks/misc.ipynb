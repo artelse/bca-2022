{
 "cells": [
  {
   "cell_type": "code",
   "execution_count": null,
   "id": "f69c94cd-f8da-4815-a5b9-81c31a50a087",
   "metadata": {},
   "outputs": [],
   "source": [
    "import numpy as np\n",
    "import matplotlib.pyplot as plt"
   ]
  },
  {
   "cell_type": "code",
   "execution_count": null,
   "id": "6f3bf62c-699f-4358-abe8-d391f65fdcdf",
   "metadata": {},
   "outputs": [],
   "source": [
    "samples = np.arange(0, 10, 0.1)\n",
    "\n",
    "amplitude = np.sin(2 * samples) + np.sin(np.pi * samples)\n",
    "\n",
    "plt.plot(samples, amplitude)\n",
    "plt.show()"
   ]
  }
 ],
 "metadata": {
  "kernelspec": {
   "display_name": "Python 3 (ipykernel)",
   "language": "python",
   "name": "python3"
  },
  "language_info": {
   "codemirror_mode": {
    "name": "ipython",
    "version": 3
   },
   "file_extension": ".py",
   "mimetype": "text/x-python",
   "name": "python",
   "nbconvert_exporter": "python",
   "pygments_lexer": "ipython3",
   "version": "3.9.13"
  }
 },
 "nbformat": 4,
 "nbformat_minor": 5
}
