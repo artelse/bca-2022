{
 "cells": [
  {
   "cell_type": "code",
   "execution_count": null,
   "id": "c41bb8fd-ad41-4074-8d2d-7b314c745237",
   "metadata": {},
   "outputs": [],
   "source": [
    "!pip install opencv-python Pillow scikit-image"
   ]
  },
  {
   "cell_type": "code",
   "execution_count": null,
   "id": "3a0b5a74-ca7b-499e-b092-4bf0611776fb",
   "metadata": {},
   "outputs": [],
   "source": [
    "!wget \"https://i.redd.it/1sme6te6knf01.jpg\" "
   ]
  },
  {
   "cell_type": "markdown",
   "id": "8fd12824-0aa9-430d-96ce-b1883cd1ffdf",
   "metadata": {},
   "source": [
    "Make a folder 'images' and move the image there, renaming it to car.jpg"
   ]
  },
  {
   "cell_type": "code",
   "execution_count": null,
   "id": "8b013f1c-18d6-4134-991c-18365725893b",
   "metadata": {},
   "outputs": [],
   "source": [
    "mkdir images && mv 1sme6te6knf01.jpg images/car.jpg"
   ]
  },
  {
   "cell_type": "code",
   "execution_count": null,
   "id": "6d20858a-e725-45a7-9f8e-78394f161bb0",
   "metadata": {},
   "outputs": [],
   "source": [
    "import matplotlib.pyplot as plt\n",
    "\n",
    "img_path = 'images/car.jpg'"
   ]
  },
  {
   "cell_type": "code",
   "execution_count": null,
   "id": "da648c60-4ba4-4368-9768-ed700e574761",
   "metadata": {},
   "outputs": [],
   "source": [
    "# Load with open-cv\n",
    "import cv2\n",
    "# open-cv represents RGB images as BGR (reverse order)\n",
    "img = cv2.cvtColor(cv2.imread(img_path), cv2.COLOR_BGR2RGB)\n",
    "\n",
    "plt.imshow(img)\n",
    "plt.show()"
   ]
  },
  {
   "cell_type": "code",
   "execution_count": null,
   "id": "76994a21-416f-410a-99f6-b84524872928",
   "metadata": {},
   "outputs": [],
   "source": [
    "# Load with scikit\n",
    "from skimage import io\n",
    "\n",
    "img = io.imread(img_path)\n",
    "\n",
    "plt.imshow(img)\n",
    "plt.show()"
   ]
  },
  {
   "cell_type": "code",
   "execution_count": null,
   "id": "7c45c1c7-a90a-4c3f-bab9-2ae3fbaa8780",
   "metadata": {},
   "outputs": [],
   "source": [
    "# Load with PIL\n",
    "from PIL import Image\n",
    "\n",
    "img =  Image.open(img_path)\n",
    "\n",
    "plt.imshow(img)\n",
    "plt.show()"
   ]
  },
  {
   "cell_type": "code",
   "execution_count": null,
   "id": "3df82b74-fe55-4416-a077-8a1407057e8b",
   "metadata": {},
   "outputs": [],
   "source": []
  }
 ],
 "metadata": {
  "kernelspec": {
   "display_name": "Python 3 (ipykernel)",
   "language": "python",
   "name": "python3"
  },
  "language_info": {
   "codemirror_mode": {
    "name": "ipython",
    "version": 3
   },
   "file_extension": ".py",
   "mimetype": "text/x-python",
   "name": "python",
   "nbconvert_exporter": "python",
   "pygments_lexer": "ipython3",
   "version": "3.9.13"
  }
 },
 "nbformat": 4,
 "nbformat_minor": 5
}
