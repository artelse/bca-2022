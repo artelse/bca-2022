{
 "cells": [
  {
   "cell_type": "markdown",
   "id": "eeddc0e2-eb3f-48d8-b454-54dc9e20799b",
   "metadata": {},
   "source": [
    "# Randomness"
   ]
  },
  {
   "cell_type": "markdown",
   "id": "4d324b60-fb5a-4c65-85eb-0c63355ac6d3",
   "metadata": {},
   "source": [
    "<img src=\"images/RAND.jpg\" width=50%>\n",
    "Above picture is taken from Nick Montford's excellent book on a popular one-liner  \n",
    "`10 PRINT CHR$(205.5+RND(1)); : GOTO 10`  \n",
    "that produced intriguing random imagery in the 1980's home computer era. \n",
    "It has a good chapter on randomness covering following sections:  \n",
    "Games of Chance  \n",
    "Randomness Before Computing  \n",
    "Randomness Comes to Computing  \n",
    "Computational Randomness in the Arts  \n",
    "The Commodore 64 RND Function  \n",
    "\n",
    "**George Brecht in Chance Imagery** (see drive) gives us a nice overview about chance, randomness from a more cultural perspective."
   ]
  },
  {
   "cell_type": "markdown",
   "id": "b6984885-be15-459e-b429-a30f33993e7c",
   "metadata": {},
   "source": [
    "### Pseudo random examples"
   ]
  },
  {
   "cell_type": "code",
   "execution_count": null,
   "id": "c064a49c-4894-42d0-b479-24e25a4ead86",
   "metadata": {},
   "outputs": [],
   "source": [
    "import random\n",
    "\n",
    "print(\"Random float: \", random.random())"
   ]
  },
  {
   "cell_type": "code",
   "execution_count": null,
   "id": "91e150de-c3c8-489b-a50f-7b87501face7",
   "metadata": {},
   "outputs": [],
   "source": [
    "print(\"Random integer: \", random.randint(0, 9))"
   ]
  },
  {
   "cell_type": "code",
   "execution_count": null,
   "id": "d70a9bce-c9c7-4aee-b2c9-5bdb38a3a0df",
   "metadata": {},
   "outputs": [],
   "source": [
    "random_list = ['Tree', 'Keys', 'Washing Machine', 'Tomato', 'Money']\n",
    "\n",
    "print(\"Random element from list:\", random.choice(random_list))"
   ]
  },
  {
   "cell_type": "markdown",
   "id": "629e0c95-4492-4bda-86c2-836950ea3388",
   "metadata": {},
   "source": [
    "random_list generated with: https://www.randomlists.com/things"
   ]
  },
  {
   "cell_type": "code",
   "execution_count": null,
   "id": "38ba9642-8869-4a10-a494-4e6e1ec091d6",
   "metadata": {},
   "outputs": [],
   "source": [
    "random.shuffle(random_list)\n",
    "print (\"Printing shuffled list \", random_list)"
   ]
  },
  {
   "cell_type": "markdown",
   "id": "026310a6-a577-40ee-9404-5834f0a90d6a",
   "metadata": {},
   "source": [
    "All the examples above are **pseudo** random as they can be replicated with a fixed seed:"
   ]
  },
  {
   "cell_type": "code",
   "execution_count": null,
   "id": "51d4c3d6-d059-438f-9db1-7b1741e82da4",
   "metadata": {},
   "outputs": [],
   "source": [
    "random.seed(6)\n",
    "print(random.randint(0, 9999))"
   ]
  },
  {
   "cell_type": "markdown",
   "id": "c145bf1b-a0a9-44b4-8f9b-d92b9be0abce",
   "metadata": {},
   "source": [
    "### True random"
   ]
  },
  {
   "cell_type": "markdown",
   "id": "656c11e5-c6ab-4191-8886-fc0400f1ec8d",
   "metadata": {},
   "source": [
    "#### Lavarand"
   ]
  },
  {
   "cell_type": "markdown",
   "id": "e53c4ea6-c71b-4df3-a8a7-4e07cb4471a9",
   "metadata": {},
   "source": [
    "The company Cloudfare uses a wall of lava lamps to generate cryptographic entropy in generating random numbers. The company videotapes the lamps and turns the footage into a stream of “random, unpredictable bytes” to generate secure encryption keys.\n",
    "\n",
    "source: https://laughingsquid.com/cloudflare-wall-of-lava-lamps/\n",
    "\n",
    "The original Lavarand was a hardware random number generator designed by Silicon Graphics that worked by taking pictures of the patterns made by the floating material in lava lamps, extracting random data from the pictures, and using the result to seed a pseudorandom number generator.\n",
    "\n",
    "source: https://en.wikipedia.org/wiki/Lavarand"
   ]
  },
  {
   "cell_type": "code",
   "execution_count": null,
   "id": "2eb944dd-8fc1-46bb-900a-808c81199441",
   "metadata": {},
   "outputs": [],
   "source": [
    "from IPython.display import Image\n",
    "Image(url='https://blog.cloudflare.com/content/images/2017/11/lava-lamps.jpg')"
   ]
  },
  {
   "cell_type": "markdown",
   "id": "4e2fb978-1416-4d64-a17f-94372cc34e6a",
   "metadata": {},
   "source": [
    "#### System random"
   ]
  },
  {
   "cell_type": "markdown",
   "id": "88080c70-dd06-44b2-b710-d0c133ab1231",
   "metadata": {},
   "source": [
    "- /dev/random (typically blocks if there is less entropy available than requested)\n",
    "- /dev/urandom (typically never blocks, even if the pseudorandom number generator seed was not fully initialized)\n",
    "\n",
    "Common sources include:\n",
    "- environmental noise collected from device drivers\n",
    "- hardware interrupt (timing assumed) "
   ]
  },
  {
   "cell_type": "code",
   "execution_count": null,
   "id": "de112726-63bd-49a3-9a14-d27a309b04af",
   "metadata": {
    "tags": []
   },
   "outputs": [],
   "source": [
    "number = random.SystemRandom().random()\n",
    "print(number)"
   ]
  },
  {
   "cell_type": "markdown",
   "id": "9bd1ed1f-4c75-48bd-b839-11b8a4776f46",
   "metadata": {},
   "source": [
    "#### random.org"
   ]
  },
  {
   "cell_type": "code",
   "execution_count": null,
   "id": "adbb2fb6-c213-45c4-8aa2-9722d4596423",
   "metadata": {},
   "outputs": [],
   "source": [
    "import requests\n",
    "\n",
    "x = requests.get('https://www.random.org/integers/?num=1&min=1&max=9999&col=1&base=10&format=plain&rnd=new')\n",
    "\n",
    "print(x.text)"
   ]
  },
  {
   "cell_type": "code",
   "execution_count": null,
   "id": "15995b78-2ff7-43a8-a6ae-42663ff89ac1",
   "metadata": {},
   "outputs": [],
   "source": [
    "random.seed(x.text)\n",
    "\n",
    "print(random.randint(1, 9999))"
   ]
  },
  {
   "cell_type": "markdown",
   "id": "1182c102-e921-4d27-8d92-1a1a84d09792",
   "metadata": {},
   "source": [
    "### Generating random data with numpy"
   ]
  },
  {
   "cell_type": "code",
   "execution_count": null,
   "id": "644e1d54-584f-475f-a4ea-34379d123905",
   "metadata": {},
   "outputs": [],
   "source": [
    "!pip install numpy matplotlib"
   ]
  },
  {
   "cell_type": "markdown",
   "id": "ee533783-9603-448c-968f-3daac666f720",
   "metadata": {},
   "source": [
    "#### Generate a random RGB color"
   ]
  },
  {
   "cell_type": "code",
   "execution_count": null,
   "id": "c8b59fee-23de-4527-90ee-c2025f1d22fb",
   "metadata": {},
   "outputs": [],
   "source": [
    "import numpy as np\n",
    "\n",
    "color = np.random.randint(256, size=3)\n",
    "\n",
    "print(color)"
   ]
  },
  {
   "cell_type": "markdown",
   "id": "0be96078-303a-4c78-b39d-b531ea871d3f",
   "metadata": {},
   "source": [
    "Plot using matplotlib"
   ]
  },
  {
   "cell_type": "code",
   "execution_count": null,
   "id": "127b7bff-068f-43ae-a391-e1c24a363c4d",
   "metadata": {},
   "outputs": [],
   "source": [
    "import matplotlib.pyplot as plt\n",
    "\n",
    "img = color * np.ones([1, 1, 3], dtype=np.uint8)\n",
    "\n",
    "plot = plt.imshow(img)\n",
    "plt.show()"
   ]
  },
  {
   "cell_type": "markdown",
   "id": "275c18d4-8004-4737-ae68-786c3a63970a",
   "metadata": {},
   "source": [
    "#### Generate a grid of random colors"
   ]
  },
  {
   "cell_type": "code",
   "execution_count": null,
   "id": "ed314d50-721b-4886-9851-13a7f58c22b5",
   "metadata": {},
   "outputs": [],
   "source": [
    "width, height = 3, 3\n",
    "\n",
    "random_colors = [np.random.randint(256, size=3) for x in range(width*height)]\n",
    "\n",
    "# print(random_colors)"
   ]
  },
  {
   "cell_type": "code",
   "execution_count": null,
   "id": "01f45937-5bd1-4391-889c-9335716d035e",
   "metadata": {},
   "outputs": [],
   "source": [
    "random_color_arr = np.array(random_colors)\n",
    "\n",
    "grid = np.reshape(np.arange(width*height, dtype=np.uint8), (width, height))\n",
    "\n",
    "plt.imshow(random_color_arr[grid])\n",
    "\n",
    "plt.show()"
   ]
  },
  {
   "cell_type": "markdown",
   "id": "1220a157-e0fc-4f80-aba3-6444b6eafe20",
   "metadata": {},
   "source": [
    "#### Random color noise"
   ]
  },
  {
   "cell_type": "code",
   "execution_count": null,
   "id": "d54e180c-fd09-4a21-8e98-abba9f473a60",
   "metadata": {},
   "outputs": [],
   "source": [
    "# create a random number generator\n",
    "rng = np.random.default_rng()\n",
    "\n",
    "img = (rng.standard_normal([32, 32, 3]) * 255).astype(np.uint8) # Draw samples from a standard Normal distribution (mean=0, stdev=1).\n",
    "\n",
    "plt.imshow(img)\n",
    "\n",
    "plt.show()"
   ]
  },
  {
   "cell_type": "code",
   "execution_count": null,
   "id": "7a0099c5-3f55-4bac-b4d0-c9990d292487",
   "metadata": {
    "jupyter": {
     "source_hidden": true
    },
    "tags": []
   },
   "outputs": [],
   "source": [
    "data = rng.random([8, 8]) # Return random floats between 0.0 and 1.0).\n",
    "\n",
    "plt.imshow(data, cmap='Greys', interpolation='none')\n",
    "\n",
    "plt.show()"
   ]
  },
  {
   "cell_type": "code",
   "execution_count": null,
   "id": "10d18f6e-783f-41ac-a1be-d59c91d6432f",
   "metadata": {},
   "outputs": [],
   "source": [
    "data = rng.random([16, 16])\n",
    "\n",
    "fig = plt.figure(figsize=(24, 6))\n",
    "\n",
    "interpolations = ['None', 'bilinear', 'gaussian', 'bicubic']\n",
    "\n",
    "for idx, i in enumerate(interpolations):\n",
    "    \n",
    "    fig.add_subplot(1, len(interpolations), idx + 1).title.set_text(i)\n",
    "    plt.imshow(data, cmap='magma', interpolation=i)\n",
    "\n",
    "plt.show()"
   ]
  },
  {
   "cell_type": "markdown",
   "id": "bc13e11b-c02b-4315-a551-6efbb73209e7",
   "metadata": {},
   "source": [
    "#### GAN's: From noise to image:"
   ]
  },
  {
   "cell_type": "code",
   "execution_count": null,
   "id": "09c9dce7-c5a6-4bb0-8ec8-81ed9e84dbda",
   "metadata": {},
   "outputs": [],
   "source": [
    "from IPython.display import YouTubeVideo\n",
    "YouTubeVideo('imbsfD_HB1I')"
   ]
  },
  {
   "cell_type": "markdown",
   "id": "c3c92448-4d62-4279-9b4e-baf8ad9bc62e",
   "metadata": {},
   "source": [
    "#### Scattering points in a coordinate system"
   ]
  },
  {
   "cell_type": "code",
   "execution_count": null,
   "id": "58cc494a-4f90-43da-bda3-0f4a1a6975ec",
   "metadata": {},
   "outputs": [],
   "source": [
    "data = rng.random([16, 16])\n",
    "\n",
    "n = 50 \n",
    "\n",
    "x = rng.random(size=n)\n",
    "y = rng.random(size=n)\n",
    "colors = rng.random(size=n)\n",
    "\n",
    "area = (30 * rng.random(size=n))**2  # 0 to 15 point radii\n",
    "\n",
    "plt.scatter(x, y, s=area, c=colors, alpha=0.5)\n",
    "plt.show()"
   ]
  },
  {
   "cell_type": "markdown",
   "id": "2130f56c-874e-410f-a47e-1bcfd59bbe18",
   "metadata": {},
   "source": [
    "#### Brownian motion simulation"
   ]
  },
  {
   "cell_type": "code",
   "execution_count": null,
   "id": "6b17a5b0-3615-42ff-ba6a-9fcd9eab00b6",
   "metadata": {},
   "outputs": [],
   "source": [
    "n = 500\n",
    "x = np.cumsum(rng.standard_normal(n)) # cumsum returns the cumulative sum of the elements along a given axis.\n",
    "y = np.cumsum(rng.standard_normal(n))\n",
    "\n",
    "# add 10 intermediary points between two successive points\n",
    "k = 10\n",
    "# interpolate x and y\n",
    "x2 = np.interp(np.arange(n * k), np.arange(n) * k, x)\n",
    "y2 = np.interp(np.arange(n * k), np.arange(n) * k, y)\n",
    "\n",
    "color = range(n * k)\n",
    "\n",
    "plt.scatter(x2, y2, c=color)\n",
    "plt.colorbar()\n",
    "plt.show()"
   ]
  },
  {
   "cell_type": "markdown",
   "id": "64dda7bf-3c56-41f7-9d49-171281b6d03e",
   "metadata": {},
   "source": [
    "#### Plot a random graph"
   ]
  },
  {
   "cell_type": "code",
   "execution_count": null,
   "id": "1eaf4d39-db3d-467c-a873-2ec5c89597bb",
   "metadata": {},
   "outputs": [],
   "source": [
    "ys = rng.random(size=64)\n",
    "print(ys)\n",
    "x = [x for x in range(len(ys))]\n",
    "print(x)\n",
    "\n",
    "plt.plot(x, ys)\n",
    "plt.fill_between(x, ys, facecolor='g', alpha=0.6)\n",
    "\n",
    "plt.show()"
   ]
  },
  {
   "cell_type": "markdown",
   "id": "a19b2a64-08f0-469d-9851-05786093c233",
   "metadata": {},
   "source": [
    "Specify the lower and upper bounds of the random distribution:"
   ]
  },
  {
   "cell_type": "code",
   "execution_count": null,
   "id": "5cf0628f-a0aa-4580-92e6-3bfe74a0e7c4",
   "metadata": {},
   "outputs": [],
   "source": [
    "ys = rng.uniform(1, 2, size=64)\n",
    "x = [x for x in range(len(ys))]\n",
    "\n",
    "plt.plot(x, ys)\n",
    "plt.fill_between(x, ys, facecolor='g', alpha=0.6)\n",
    "\n",
    "plt.show()"
   ]
  },
  {
   "cell_type": "markdown",
   "id": "127eca89-74ca-4070-8dbc-67fa6408cd51",
   "metadata": {},
   "source": [
    "Plotting the histogram to visualize the random distribution:"
   ]
  },
  {
   "cell_type": "code",
   "execution_count": null,
   "id": "f30a8e3c-6353-44b2-91b9-b400d8b615e1",
   "metadata": {},
   "outputs": [],
   "source": [
    "plt.hist(ys)\n",
    "\n",
    "plt.show()"
   ]
  },
  {
   "cell_type": "markdown",
   "id": "8d4f4f06-05ef-46dc-8503-8ba9c1bb2c89",
   "metadata": {},
   "source": [
    "#### Plot a graph using a normal (Gaussian) distribution:"
   ]
  },
  {
   "cell_type": "code",
   "execution_count": null,
   "id": "760f544c-04ab-4445-8188-4f200017ccf1",
   "metadata": {},
   "outputs": [],
   "source": [
    "ys = rng.standard_normal(size=128)\n",
    "\n",
    "x = [x for x in range(len(ys))]\n",
    "\n",
    "plt.plot(x, ys)\n",
    "\n",
    "plt.show()"
   ]
  },
  {
   "cell_type": "markdown",
   "id": "dc13ec28-761a-402a-82b1-c4479cec1cd8",
   "metadata": {},
   "source": [
    "Notice ho the histogram changes:"
   ]
  },
  {
   "cell_type": "code",
   "execution_count": null,
   "id": "0ff8bac9-de47-4887-97f3-4915d6fb4c11",
   "metadata": {},
   "outputs": [],
   "source": [
    "plt.hist(ys)\n",
    "\n",
    "plt.show()"
   ]
  }
 ],
 "metadata": {
  "kernelspec": {
   "display_name": "Python 3 (ipykernel)",
   "language": "python",
   "name": "python3"
  },
  "language_info": {
   "codemirror_mode": {
    "name": "ipython",
    "version": 3
   },
   "file_extension": ".py",
   "mimetype": "text/x-python",
   "name": "python",
   "nbconvert_exporter": "python",
   "pygments_lexer": "ipython3",
   "version": "3.9.13"
  }
 },
 "nbformat": 4,
 "nbformat_minor": 5
}
